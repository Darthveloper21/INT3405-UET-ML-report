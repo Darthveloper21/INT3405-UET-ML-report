{
  "nbformat": 4,
  "nbformat_minor": 0,
  "metadata": {
    "accelerator": "GPU",
    "colab": {
      "name": "BERT_19021268.ipynb",
      "provenance": [],
      "collapsed_sections": []
    },
    "kernelspec": {
      "display_name": "Python 3",
      "name": "python3"
    },
    "language_info": {
      "name": "python"
    },
    "widgets": {
      "application/vnd.jupyter.widget-state+json": {
        "df420b98d14c4eaaa9d5efde97a3d2ee": {
          "model_module": "@jupyter-widgets/controls",
          "model_name": "HBoxModel",
          "model_module_version": "1.5.0",
          "state": {
            "_view_name": "HBoxView",
            "_dom_classes": [],
            "_model_name": "HBoxModel",
            "_view_module": "@jupyter-widgets/controls",
            "_model_module_version": "1.5.0",
            "_view_count": null,
            "_view_module_version": "1.5.0",
            "box_style": "",
            "layout": "IPY_MODEL_90698259156b4923acea646e11838126",
            "_model_module": "@jupyter-widgets/controls",
            "children": [
              "IPY_MODEL_8c0815f0642e4edcb1fc3d56d02a91a2",
              "IPY_MODEL_a65cb872e8f7495b9754635560ab56b1",
              "IPY_MODEL_28e36521d0674375ac6e3e4b6546af17"
            ]
          }
        },
        "90698259156b4923acea646e11838126": {
          "model_module": "@jupyter-widgets/base",
          "model_name": "LayoutModel",
          "model_module_version": "1.2.0",
          "state": {
            "_view_name": "LayoutView",
            "grid_template_rows": null,
            "right": null,
            "justify_content": null,
            "_view_module": "@jupyter-widgets/base",
            "overflow": null,
            "_model_module_version": "1.2.0",
            "_view_count": null,
            "flex_flow": null,
            "width": null,
            "min_width": null,
            "border": null,
            "align_items": null,
            "bottom": null,
            "_model_module": "@jupyter-widgets/base",
            "top": null,
            "grid_column": null,
            "overflow_y": null,
            "overflow_x": null,
            "grid_auto_flow": null,
            "grid_area": null,
            "grid_template_columns": null,
            "flex": null,
            "_model_name": "LayoutModel",
            "justify_items": null,
            "grid_row": null,
            "max_height": null,
            "align_content": null,
            "visibility": null,
            "align_self": null,
            "height": null,
            "min_height": null,
            "padding": null,
            "grid_auto_rows": null,
            "grid_gap": null,
            "max_width": null,
            "order": null,
            "_view_module_version": "1.2.0",
            "grid_template_areas": null,
            "object_position": null,
            "object_fit": null,
            "grid_auto_columns": null,
            "margin": null,
            "display": null,
            "left": null
          }
        },
        "8c0815f0642e4edcb1fc3d56d02a91a2": {
          "model_module": "@jupyter-widgets/controls",
          "model_name": "HTMLModel",
          "model_module_version": "1.5.0",
          "state": {
            "_view_name": "HTMLView",
            "style": "IPY_MODEL_9d7247c4dd0946a580fc6edcf6b65286",
            "_dom_classes": [],
            "description": "",
            "_model_name": "HTMLModel",
            "placeholder": "​",
            "_view_module": "@jupyter-widgets/controls",
            "_model_module_version": "1.5.0",
            "value": "Downloading: 100%",
            "_view_count": null,
            "_view_module_version": "1.5.0",
            "description_tooltip": null,
            "_model_module": "@jupyter-widgets/controls",
            "layout": "IPY_MODEL_e2ff9c20fa034101a76234b2582ec554"
          }
        },
        "a65cb872e8f7495b9754635560ab56b1": {
          "model_module": "@jupyter-widgets/controls",
          "model_name": "FloatProgressModel",
          "model_module_version": "1.5.0",
          "state": {
            "_view_name": "ProgressView",
            "style": "IPY_MODEL_fbc37f4d15474ea7bac92479f0d0c34c",
            "_dom_classes": [],
            "description": "",
            "_model_name": "FloatProgressModel",
            "bar_style": "success",
            "max": 213450,
            "_view_module": "@jupyter-widgets/controls",
            "_model_module_version": "1.5.0",
            "value": 213450,
            "_view_count": null,
            "_view_module_version": "1.5.0",
            "orientation": "horizontal",
            "min": 0,
            "description_tooltip": null,
            "_model_module": "@jupyter-widgets/controls",
            "layout": "IPY_MODEL_9d7ce1f93afd486faf2ef01b0f808bf4"
          }
        },
        "28e36521d0674375ac6e3e4b6546af17": {
          "model_module": "@jupyter-widgets/controls",
          "model_name": "HTMLModel",
          "model_module_version": "1.5.0",
          "state": {
            "_view_name": "HTMLView",
            "style": "IPY_MODEL_5f64d16b9c1a485a852fb5243020eb4c",
            "_dom_classes": [],
            "description": "",
            "_model_name": "HTMLModel",
            "placeholder": "​",
            "_view_module": "@jupyter-widgets/controls",
            "_model_module_version": "1.5.0",
            "value": " 208k/208k [00:00&lt;00:00, 744kB/s]",
            "_view_count": null,
            "_view_module_version": "1.5.0",
            "description_tooltip": null,
            "_model_module": "@jupyter-widgets/controls",
            "layout": "IPY_MODEL_4c85815fc559408488c16c825b25df29"
          }
        },
        "9d7247c4dd0946a580fc6edcf6b65286": {
          "model_module": "@jupyter-widgets/controls",
          "model_name": "DescriptionStyleModel",
          "model_module_version": "1.5.0",
          "state": {
            "_view_name": "StyleView",
            "_model_name": "DescriptionStyleModel",
            "description_width": "",
            "_view_module": "@jupyter-widgets/base",
            "_model_module_version": "1.5.0",
            "_view_count": null,
            "_view_module_version": "1.2.0",
            "_model_module": "@jupyter-widgets/controls"
          }
        },
        "e2ff9c20fa034101a76234b2582ec554": {
          "model_module": "@jupyter-widgets/base",
          "model_name": "LayoutModel",
          "model_module_version": "1.2.0",
          "state": {
            "_view_name": "LayoutView",
            "grid_template_rows": null,
            "right": null,
            "justify_content": null,
            "_view_module": "@jupyter-widgets/base",
            "overflow": null,
            "_model_module_version": "1.2.0",
            "_view_count": null,
            "flex_flow": null,
            "width": null,
            "min_width": null,
            "border": null,
            "align_items": null,
            "bottom": null,
            "_model_module": "@jupyter-widgets/base",
            "top": null,
            "grid_column": null,
            "overflow_y": null,
            "overflow_x": null,
            "grid_auto_flow": null,
            "grid_area": null,
            "grid_template_columns": null,
            "flex": null,
            "_model_name": "LayoutModel",
            "justify_items": null,
            "grid_row": null,
            "max_height": null,
            "align_content": null,
            "visibility": null,
            "align_self": null,
            "height": null,
            "min_height": null,
            "padding": null,
            "grid_auto_rows": null,
            "grid_gap": null,
            "max_width": null,
            "order": null,
            "_view_module_version": "1.2.0",
            "grid_template_areas": null,
            "object_position": null,
            "object_fit": null,
            "grid_auto_columns": null,
            "margin": null,
            "display": null,
            "left": null
          }
        },
        "fbc37f4d15474ea7bac92479f0d0c34c": {
          "model_module": "@jupyter-widgets/controls",
          "model_name": "ProgressStyleModel",
          "model_module_version": "1.5.0",
          "state": {
            "_view_name": "StyleView",
            "_model_name": "ProgressStyleModel",
            "description_width": "",
            "_view_module": "@jupyter-widgets/base",
            "_model_module_version": "1.5.0",
            "_view_count": null,
            "_view_module_version": "1.2.0",
            "bar_color": null,
            "_model_module": "@jupyter-widgets/controls"
          }
        },
        "9d7ce1f93afd486faf2ef01b0f808bf4": {
          "model_module": "@jupyter-widgets/base",
          "model_name": "LayoutModel",
          "model_module_version": "1.2.0",
          "state": {
            "_view_name": "LayoutView",
            "grid_template_rows": null,
            "right": null,
            "justify_content": null,
            "_view_module": "@jupyter-widgets/base",
            "overflow": null,
            "_model_module_version": "1.2.0",
            "_view_count": null,
            "flex_flow": null,
            "width": null,
            "min_width": null,
            "border": null,
            "align_items": null,
            "bottom": null,
            "_model_module": "@jupyter-widgets/base",
            "top": null,
            "grid_column": null,
            "overflow_y": null,
            "overflow_x": null,
            "grid_auto_flow": null,
            "grid_area": null,
            "grid_template_columns": null,
            "flex": null,
            "_model_name": "LayoutModel",
            "justify_items": null,
            "grid_row": null,
            "max_height": null,
            "align_content": null,
            "visibility": null,
            "align_self": null,
            "height": null,
            "min_height": null,
            "padding": null,
            "grid_auto_rows": null,
            "grid_gap": null,
            "max_width": null,
            "order": null,
            "_view_module_version": "1.2.0",
            "grid_template_areas": null,
            "object_position": null,
            "object_fit": null,
            "grid_auto_columns": null,
            "margin": null,
            "display": null,
            "left": null
          }
        },
        "5f64d16b9c1a485a852fb5243020eb4c": {
          "model_module": "@jupyter-widgets/controls",
          "model_name": "DescriptionStyleModel",
          "model_module_version": "1.5.0",
          "state": {
            "_view_name": "StyleView",
            "_model_name": "DescriptionStyleModel",
            "description_width": "",
            "_view_module": "@jupyter-widgets/base",
            "_model_module_version": "1.5.0",
            "_view_count": null,
            "_view_module_version": "1.2.0",
            "_model_module": "@jupyter-widgets/controls"
          }
        },
        "4c85815fc559408488c16c825b25df29": {
          "model_module": "@jupyter-widgets/base",
          "model_name": "LayoutModel",
          "model_module_version": "1.2.0",
          "state": {
            "_view_name": "LayoutView",
            "grid_template_rows": null,
            "right": null,
            "justify_content": null,
            "_view_module": "@jupyter-widgets/base",
            "overflow": null,
            "_model_module_version": "1.2.0",
            "_view_count": null,
            "flex_flow": null,
            "width": null,
            "min_width": null,
            "border": null,
            "align_items": null,
            "bottom": null,
            "_model_module": "@jupyter-widgets/base",
            "top": null,
            "grid_column": null,
            "overflow_y": null,
            "overflow_x": null,
            "grid_auto_flow": null,
            "grid_area": null,
            "grid_template_columns": null,
            "flex": null,
            "_model_name": "LayoutModel",
            "justify_items": null,
            "grid_row": null,
            "max_height": null,
            "align_content": null,
            "visibility": null,
            "align_self": null,
            "height": null,
            "min_height": null,
            "padding": null,
            "grid_auto_rows": null,
            "grid_gap": null,
            "max_width": null,
            "order": null,
            "_view_module_version": "1.2.0",
            "grid_template_areas": null,
            "object_position": null,
            "object_fit": null,
            "grid_auto_columns": null,
            "margin": null,
            "display": null,
            "left": null
          }
        },
        "9bc4e1571f324d3abaf482301a6f379f": {
          "model_module": "@jupyter-widgets/controls",
          "model_name": "HBoxModel",
          "model_module_version": "1.5.0",
          "state": {
            "_view_name": "HBoxView",
            "_dom_classes": [],
            "_model_name": "HBoxModel",
            "_view_module": "@jupyter-widgets/controls",
            "_model_module_version": "1.5.0",
            "_view_count": null,
            "_view_module_version": "1.5.0",
            "box_style": "",
            "layout": "IPY_MODEL_3b593577c40c4754a9725f53f349fbd8",
            "_model_module": "@jupyter-widgets/controls",
            "children": [
              "IPY_MODEL_0f2d41ccc3e5475cab33b0c0e50f6b5b",
              "IPY_MODEL_b4b91754020c44b19c39cbd45d723778",
              "IPY_MODEL_da7477bc6e434b918374686a8b43a1ab"
            ]
          }
        },
        "3b593577c40c4754a9725f53f349fbd8": {
          "model_module": "@jupyter-widgets/base",
          "model_name": "LayoutModel",
          "model_module_version": "1.2.0",
          "state": {
            "_view_name": "LayoutView",
            "grid_template_rows": null,
            "right": null,
            "justify_content": null,
            "_view_module": "@jupyter-widgets/base",
            "overflow": null,
            "_model_module_version": "1.2.0",
            "_view_count": null,
            "flex_flow": null,
            "width": null,
            "min_width": null,
            "border": null,
            "align_items": null,
            "bottom": null,
            "_model_module": "@jupyter-widgets/base",
            "top": null,
            "grid_column": null,
            "overflow_y": null,
            "overflow_x": null,
            "grid_auto_flow": null,
            "grid_area": null,
            "grid_template_columns": null,
            "flex": null,
            "_model_name": "LayoutModel",
            "justify_items": null,
            "grid_row": null,
            "max_height": null,
            "align_content": null,
            "visibility": null,
            "align_self": null,
            "height": null,
            "min_height": null,
            "padding": null,
            "grid_auto_rows": null,
            "grid_gap": null,
            "max_width": null,
            "order": null,
            "_view_module_version": "1.2.0",
            "grid_template_areas": null,
            "object_position": null,
            "object_fit": null,
            "grid_auto_columns": null,
            "margin": null,
            "display": null,
            "left": null
          }
        },
        "0f2d41ccc3e5475cab33b0c0e50f6b5b": {
          "model_module": "@jupyter-widgets/controls",
          "model_name": "HTMLModel",
          "model_module_version": "1.5.0",
          "state": {
            "_view_name": "HTMLView",
            "style": "IPY_MODEL_137ad86c460e4686838cb554f9421197",
            "_dom_classes": [],
            "description": "",
            "_model_name": "HTMLModel",
            "placeholder": "​",
            "_view_module": "@jupyter-widgets/controls",
            "_model_module_version": "1.5.0",
            "value": "Downloading: 100%",
            "_view_count": null,
            "_view_module_version": "1.5.0",
            "description_tooltip": null,
            "_model_module": "@jupyter-widgets/controls",
            "layout": "IPY_MODEL_32d80a42a69544a3a5846f29032138d3"
          }
        },
        "b4b91754020c44b19c39cbd45d723778": {
          "model_module": "@jupyter-widgets/controls",
          "model_name": "FloatProgressModel",
          "model_module_version": "1.5.0",
          "state": {
            "_view_name": "ProgressView",
            "style": "IPY_MODEL_02f4fa9b483b4cc989c7287e38af244f",
            "_dom_classes": [],
            "description": "",
            "_model_name": "FloatProgressModel",
            "bar_style": "success",
            "max": 29,
            "_view_module": "@jupyter-widgets/controls",
            "_model_module_version": "1.5.0",
            "value": 29,
            "_view_count": null,
            "_view_module_version": "1.5.0",
            "orientation": "horizontal",
            "min": 0,
            "description_tooltip": null,
            "_model_module": "@jupyter-widgets/controls",
            "layout": "IPY_MODEL_ac966296434542b1aeef78ba1c511896"
          }
        },
        "da7477bc6e434b918374686a8b43a1ab": {
          "model_module": "@jupyter-widgets/controls",
          "model_name": "HTMLModel",
          "model_module_version": "1.5.0",
          "state": {
            "_view_name": "HTMLView",
            "style": "IPY_MODEL_e977bbb97839445d8fadfeb70e9bcf1e",
            "_dom_classes": [],
            "description": "",
            "_model_name": "HTMLModel",
            "placeholder": "​",
            "_view_module": "@jupyter-widgets/controls",
            "_model_module_version": "1.5.0",
            "value": " 29.0/29.0 [00:00&lt;00:00, 545B/s]",
            "_view_count": null,
            "_view_module_version": "1.5.0",
            "description_tooltip": null,
            "_model_module": "@jupyter-widgets/controls",
            "layout": "IPY_MODEL_26f3fbbf874b47f08a5c7cf650305d38"
          }
        },
        "137ad86c460e4686838cb554f9421197": {
          "model_module": "@jupyter-widgets/controls",
          "model_name": "DescriptionStyleModel",
          "model_module_version": "1.5.0",
          "state": {
            "_view_name": "StyleView",
            "_model_name": "DescriptionStyleModel",
            "description_width": "",
            "_view_module": "@jupyter-widgets/base",
            "_model_module_version": "1.5.0",
            "_view_count": null,
            "_view_module_version": "1.2.0",
            "_model_module": "@jupyter-widgets/controls"
          }
        },
        "32d80a42a69544a3a5846f29032138d3": {
          "model_module": "@jupyter-widgets/base",
          "model_name": "LayoutModel",
          "model_module_version": "1.2.0",
          "state": {
            "_view_name": "LayoutView",
            "grid_template_rows": null,
            "right": null,
            "justify_content": null,
            "_view_module": "@jupyter-widgets/base",
            "overflow": null,
            "_model_module_version": "1.2.0",
            "_view_count": null,
            "flex_flow": null,
            "width": null,
            "min_width": null,
            "border": null,
            "align_items": null,
            "bottom": null,
            "_model_module": "@jupyter-widgets/base",
            "top": null,
            "grid_column": null,
            "overflow_y": null,
            "overflow_x": null,
            "grid_auto_flow": null,
            "grid_area": null,
            "grid_template_columns": null,
            "flex": null,
            "_model_name": "LayoutModel",
            "justify_items": null,
            "grid_row": null,
            "max_height": null,
            "align_content": null,
            "visibility": null,
            "align_self": null,
            "height": null,
            "min_height": null,
            "padding": null,
            "grid_auto_rows": null,
            "grid_gap": null,
            "max_width": null,
            "order": null,
            "_view_module_version": "1.2.0",
            "grid_template_areas": null,
            "object_position": null,
            "object_fit": null,
            "grid_auto_columns": null,
            "margin": null,
            "display": null,
            "left": null
          }
        },
        "02f4fa9b483b4cc989c7287e38af244f": {
          "model_module": "@jupyter-widgets/controls",
          "model_name": "ProgressStyleModel",
          "model_module_version": "1.5.0",
          "state": {
            "_view_name": "StyleView",
            "_model_name": "ProgressStyleModel",
            "description_width": "",
            "_view_module": "@jupyter-widgets/base",
            "_model_module_version": "1.5.0",
            "_view_count": null,
            "_view_module_version": "1.2.0",
            "bar_color": null,
            "_model_module": "@jupyter-widgets/controls"
          }
        },
        "ac966296434542b1aeef78ba1c511896": {
          "model_module": "@jupyter-widgets/base",
          "model_name": "LayoutModel",
          "model_module_version": "1.2.0",
          "state": {
            "_view_name": "LayoutView",
            "grid_template_rows": null,
            "right": null,
            "justify_content": null,
            "_view_module": "@jupyter-widgets/base",
            "overflow": null,
            "_model_module_version": "1.2.0",
            "_view_count": null,
            "flex_flow": null,
            "width": null,
            "min_width": null,
            "border": null,
            "align_items": null,
            "bottom": null,
            "_model_module": "@jupyter-widgets/base",
            "top": null,
            "grid_column": null,
            "overflow_y": null,
            "overflow_x": null,
            "grid_auto_flow": null,
            "grid_area": null,
            "grid_template_columns": null,
            "flex": null,
            "_model_name": "LayoutModel",
            "justify_items": null,
            "grid_row": null,
            "max_height": null,
            "align_content": null,
            "visibility": null,
            "align_self": null,
            "height": null,
            "min_height": null,
            "padding": null,
            "grid_auto_rows": null,
            "grid_gap": null,
            "max_width": null,
            "order": null,
            "_view_module_version": "1.2.0",
            "grid_template_areas": null,
            "object_position": null,
            "object_fit": null,
            "grid_auto_columns": null,
            "margin": null,
            "display": null,
            "left": null
          }
        },
        "e977bbb97839445d8fadfeb70e9bcf1e": {
          "model_module": "@jupyter-widgets/controls",
          "model_name": "DescriptionStyleModel",
          "model_module_version": "1.5.0",
          "state": {
            "_view_name": "StyleView",
            "_model_name": "DescriptionStyleModel",
            "description_width": "",
            "_view_module": "@jupyter-widgets/base",
            "_model_module_version": "1.5.0",
            "_view_count": null,
            "_view_module_version": "1.2.0",
            "_model_module": "@jupyter-widgets/controls"
          }
        },
        "26f3fbbf874b47f08a5c7cf650305d38": {
          "model_module": "@jupyter-widgets/base",
          "model_name": "LayoutModel",
          "model_module_version": "1.2.0",
          "state": {
            "_view_name": "LayoutView",
            "grid_template_rows": null,
            "right": null,
            "justify_content": null,
            "_view_module": "@jupyter-widgets/base",
            "overflow": null,
            "_model_module_version": "1.2.0",
            "_view_count": null,
            "flex_flow": null,
            "width": null,
            "min_width": null,
            "border": null,
            "align_items": null,
            "bottom": null,
            "_model_module": "@jupyter-widgets/base",
            "top": null,
            "grid_column": null,
            "overflow_y": null,
            "overflow_x": null,
            "grid_auto_flow": null,
            "grid_area": null,
            "grid_template_columns": null,
            "flex": null,
            "_model_name": "LayoutModel",
            "justify_items": null,
            "grid_row": null,
            "max_height": null,
            "align_content": null,
            "visibility": null,
            "align_self": null,
            "height": null,
            "min_height": null,
            "padding": null,
            "grid_auto_rows": null,
            "grid_gap": null,
            "max_width": null,
            "order": null,
            "_view_module_version": "1.2.0",
            "grid_template_areas": null,
            "object_position": null,
            "object_fit": null,
            "grid_auto_columns": null,
            "margin": null,
            "display": null,
            "left": null
          }
        },
        "73c71b77d976483a94e15e07766701f3": {
          "model_module": "@jupyter-widgets/controls",
          "model_name": "HBoxModel",
          "model_module_version": "1.5.0",
          "state": {
            "_view_name": "HBoxView",
            "_dom_classes": [],
            "_model_name": "HBoxModel",
            "_view_module": "@jupyter-widgets/controls",
            "_model_module_version": "1.5.0",
            "_view_count": null,
            "_view_module_version": "1.5.0",
            "box_style": "",
            "layout": "IPY_MODEL_03b6593056554d48b48db726e6a11c7a",
            "_model_module": "@jupyter-widgets/controls",
            "children": [
              "IPY_MODEL_f9aed931318c4c8096b9037f96669184",
              "IPY_MODEL_ccb78aadf4214d06823d814c165f650c",
              "IPY_MODEL_368df22daf1840a29440338692981861"
            ]
          }
        },
        "03b6593056554d48b48db726e6a11c7a": {
          "model_module": "@jupyter-widgets/base",
          "model_name": "LayoutModel",
          "model_module_version": "1.2.0",
          "state": {
            "_view_name": "LayoutView",
            "grid_template_rows": null,
            "right": null,
            "justify_content": null,
            "_view_module": "@jupyter-widgets/base",
            "overflow": null,
            "_model_module_version": "1.2.0",
            "_view_count": null,
            "flex_flow": null,
            "width": null,
            "min_width": null,
            "border": null,
            "align_items": null,
            "bottom": null,
            "_model_module": "@jupyter-widgets/base",
            "top": null,
            "grid_column": null,
            "overflow_y": null,
            "overflow_x": null,
            "grid_auto_flow": null,
            "grid_area": null,
            "grid_template_columns": null,
            "flex": null,
            "_model_name": "LayoutModel",
            "justify_items": null,
            "grid_row": null,
            "max_height": null,
            "align_content": null,
            "visibility": null,
            "align_self": null,
            "height": null,
            "min_height": null,
            "padding": null,
            "grid_auto_rows": null,
            "grid_gap": null,
            "max_width": null,
            "order": null,
            "_view_module_version": "1.2.0",
            "grid_template_areas": null,
            "object_position": null,
            "object_fit": null,
            "grid_auto_columns": null,
            "margin": null,
            "display": null,
            "left": null
          }
        },
        "f9aed931318c4c8096b9037f96669184": {
          "model_module": "@jupyter-widgets/controls",
          "model_name": "HTMLModel",
          "model_module_version": "1.5.0",
          "state": {
            "_view_name": "HTMLView",
            "style": "IPY_MODEL_b3a81d650d744d5c84f6dfa312b3fabe",
            "_dom_classes": [],
            "description": "",
            "_model_name": "HTMLModel",
            "placeholder": "​",
            "_view_module": "@jupyter-widgets/controls",
            "_model_module_version": "1.5.0",
            "value": "Downloading: 100%",
            "_view_count": null,
            "_view_module_version": "1.5.0",
            "description_tooltip": null,
            "_model_module": "@jupyter-widgets/controls",
            "layout": "IPY_MODEL_23c87386e917445c94b79bb0787d6a37"
          }
        },
        "ccb78aadf4214d06823d814c165f650c": {
          "model_module": "@jupyter-widgets/controls",
          "model_name": "FloatProgressModel",
          "model_module_version": "1.5.0",
          "state": {
            "_view_name": "ProgressView",
            "style": "IPY_MODEL_25c1b56f1ccb4497b0bd99244dc6637f",
            "_dom_classes": [],
            "description": "",
            "_model_name": "FloatProgressModel",
            "bar_style": "success",
            "max": 435797,
            "_view_module": "@jupyter-widgets/controls",
            "_model_module_version": "1.5.0",
            "value": 435797,
            "_view_count": null,
            "_view_module_version": "1.5.0",
            "orientation": "horizontal",
            "min": 0,
            "description_tooltip": null,
            "_model_module": "@jupyter-widgets/controls",
            "layout": "IPY_MODEL_babef36edbb747359d4071fd2da2a2bb"
          }
        },
        "368df22daf1840a29440338692981861": {
          "model_module": "@jupyter-widgets/controls",
          "model_name": "HTMLModel",
          "model_module_version": "1.5.0",
          "state": {
            "_view_name": "HTMLView",
            "style": "IPY_MODEL_66ff3f8667344a4192683918f96c3d29",
            "_dom_classes": [],
            "description": "",
            "_model_name": "HTMLModel",
            "placeholder": "​",
            "_view_module": "@jupyter-widgets/controls",
            "_model_module_version": "1.5.0",
            "value": " 426k/426k [00:00&lt;00:00, 875kB/s]",
            "_view_count": null,
            "_view_module_version": "1.5.0",
            "description_tooltip": null,
            "_model_module": "@jupyter-widgets/controls",
            "layout": "IPY_MODEL_72f15d167b8247b3981c5ccbb4f6f49d"
          }
        },
        "b3a81d650d744d5c84f6dfa312b3fabe": {
          "model_module": "@jupyter-widgets/controls",
          "model_name": "DescriptionStyleModel",
          "model_module_version": "1.5.0",
          "state": {
            "_view_name": "StyleView",
            "_model_name": "DescriptionStyleModel",
            "description_width": "",
            "_view_module": "@jupyter-widgets/base",
            "_model_module_version": "1.5.0",
            "_view_count": null,
            "_view_module_version": "1.2.0",
            "_model_module": "@jupyter-widgets/controls"
          }
        },
        "23c87386e917445c94b79bb0787d6a37": {
          "model_module": "@jupyter-widgets/base",
          "model_name": "LayoutModel",
          "model_module_version": "1.2.0",
          "state": {
            "_view_name": "LayoutView",
            "grid_template_rows": null,
            "right": null,
            "justify_content": null,
            "_view_module": "@jupyter-widgets/base",
            "overflow": null,
            "_model_module_version": "1.2.0",
            "_view_count": null,
            "flex_flow": null,
            "width": null,
            "min_width": null,
            "border": null,
            "align_items": null,
            "bottom": null,
            "_model_module": "@jupyter-widgets/base",
            "top": null,
            "grid_column": null,
            "overflow_y": null,
            "overflow_x": null,
            "grid_auto_flow": null,
            "grid_area": null,
            "grid_template_columns": null,
            "flex": null,
            "_model_name": "LayoutModel",
            "justify_items": null,
            "grid_row": null,
            "max_height": null,
            "align_content": null,
            "visibility": null,
            "align_self": null,
            "height": null,
            "min_height": null,
            "padding": null,
            "grid_auto_rows": null,
            "grid_gap": null,
            "max_width": null,
            "order": null,
            "_view_module_version": "1.2.0",
            "grid_template_areas": null,
            "object_position": null,
            "object_fit": null,
            "grid_auto_columns": null,
            "margin": null,
            "display": null,
            "left": null
          }
        },
        "25c1b56f1ccb4497b0bd99244dc6637f": {
          "model_module": "@jupyter-widgets/controls",
          "model_name": "ProgressStyleModel",
          "model_module_version": "1.5.0",
          "state": {
            "_view_name": "StyleView",
            "_model_name": "ProgressStyleModel",
            "description_width": "",
            "_view_module": "@jupyter-widgets/base",
            "_model_module_version": "1.5.0",
            "_view_count": null,
            "_view_module_version": "1.2.0",
            "bar_color": null,
            "_model_module": "@jupyter-widgets/controls"
          }
        },
        "babef36edbb747359d4071fd2da2a2bb": {
          "model_module": "@jupyter-widgets/base",
          "model_name": "LayoutModel",
          "model_module_version": "1.2.0",
          "state": {
            "_view_name": "LayoutView",
            "grid_template_rows": null,
            "right": null,
            "justify_content": null,
            "_view_module": "@jupyter-widgets/base",
            "overflow": null,
            "_model_module_version": "1.2.0",
            "_view_count": null,
            "flex_flow": null,
            "width": null,
            "min_width": null,
            "border": null,
            "align_items": null,
            "bottom": null,
            "_model_module": "@jupyter-widgets/base",
            "top": null,
            "grid_column": null,
            "overflow_y": null,
            "overflow_x": null,
            "grid_auto_flow": null,
            "grid_area": null,
            "grid_template_columns": null,
            "flex": null,
            "_model_name": "LayoutModel",
            "justify_items": null,
            "grid_row": null,
            "max_height": null,
            "align_content": null,
            "visibility": null,
            "align_self": null,
            "height": null,
            "min_height": null,
            "padding": null,
            "grid_auto_rows": null,
            "grid_gap": null,
            "max_width": null,
            "order": null,
            "_view_module_version": "1.2.0",
            "grid_template_areas": null,
            "object_position": null,
            "object_fit": null,
            "grid_auto_columns": null,
            "margin": null,
            "display": null,
            "left": null
          }
        },
        "66ff3f8667344a4192683918f96c3d29": {
          "model_module": "@jupyter-widgets/controls",
          "model_name": "DescriptionStyleModel",
          "model_module_version": "1.5.0",
          "state": {
            "_view_name": "StyleView",
            "_model_name": "DescriptionStyleModel",
            "description_width": "",
            "_view_module": "@jupyter-widgets/base",
            "_model_module_version": "1.5.0",
            "_view_count": null,
            "_view_module_version": "1.2.0",
            "_model_module": "@jupyter-widgets/controls"
          }
        },
        "72f15d167b8247b3981c5ccbb4f6f49d": {
          "model_module": "@jupyter-widgets/base",
          "model_name": "LayoutModel",
          "model_module_version": "1.2.0",
          "state": {
            "_view_name": "LayoutView",
            "grid_template_rows": null,
            "right": null,
            "justify_content": null,
            "_view_module": "@jupyter-widgets/base",
            "overflow": null,
            "_model_module_version": "1.2.0",
            "_view_count": null,
            "flex_flow": null,
            "width": null,
            "min_width": null,
            "border": null,
            "align_items": null,
            "bottom": null,
            "_model_module": "@jupyter-widgets/base",
            "top": null,
            "grid_column": null,
            "overflow_y": null,
            "overflow_x": null,
            "grid_auto_flow": null,
            "grid_area": null,
            "grid_template_columns": null,
            "flex": null,
            "_model_name": "LayoutModel",
            "justify_items": null,
            "grid_row": null,
            "max_height": null,
            "align_content": null,
            "visibility": null,
            "align_self": null,
            "height": null,
            "min_height": null,
            "padding": null,
            "grid_auto_rows": null,
            "grid_gap": null,
            "max_width": null,
            "order": null,
            "_view_module_version": "1.2.0",
            "grid_template_areas": null,
            "object_position": null,
            "object_fit": null,
            "grid_auto_columns": null,
            "margin": null,
            "display": null,
            "left": null
          }
        },
        "f3a8fc9682bb4c819f2f67f8e882268a": {
          "model_module": "@jupyter-widgets/controls",
          "model_name": "HBoxModel",
          "model_module_version": "1.5.0",
          "state": {
            "_view_name": "HBoxView",
            "_dom_classes": [],
            "_model_name": "HBoxModel",
            "_view_module": "@jupyter-widgets/controls",
            "_model_module_version": "1.5.0",
            "_view_count": null,
            "_view_module_version": "1.5.0",
            "box_style": "",
            "layout": "IPY_MODEL_f444e5ba838d422d8aa14e91efd83c80",
            "_model_module": "@jupyter-widgets/controls",
            "children": [
              "IPY_MODEL_75d4c3ba93874d81ac878e5cf57ef3aa",
              "IPY_MODEL_2095977e486042c4b597b0f67e902c2f",
              "IPY_MODEL_8c10b77af0cf4afba14540868ff8a4b8"
            ]
          }
        },
        "f444e5ba838d422d8aa14e91efd83c80": {
          "model_module": "@jupyter-widgets/base",
          "model_name": "LayoutModel",
          "model_module_version": "1.2.0",
          "state": {
            "_view_name": "LayoutView",
            "grid_template_rows": null,
            "right": null,
            "justify_content": null,
            "_view_module": "@jupyter-widgets/base",
            "overflow": null,
            "_model_module_version": "1.2.0",
            "_view_count": null,
            "flex_flow": null,
            "width": null,
            "min_width": null,
            "border": null,
            "align_items": null,
            "bottom": null,
            "_model_module": "@jupyter-widgets/base",
            "top": null,
            "grid_column": null,
            "overflow_y": null,
            "overflow_x": null,
            "grid_auto_flow": null,
            "grid_area": null,
            "grid_template_columns": null,
            "flex": null,
            "_model_name": "LayoutModel",
            "justify_items": null,
            "grid_row": null,
            "max_height": null,
            "align_content": null,
            "visibility": null,
            "align_self": null,
            "height": null,
            "min_height": null,
            "padding": null,
            "grid_auto_rows": null,
            "grid_gap": null,
            "max_width": null,
            "order": null,
            "_view_module_version": "1.2.0",
            "grid_template_areas": null,
            "object_position": null,
            "object_fit": null,
            "grid_auto_columns": null,
            "margin": null,
            "display": null,
            "left": null
          }
        },
        "75d4c3ba93874d81ac878e5cf57ef3aa": {
          "model_module": "@jupyter-widgets/controls",
          "model_name": "HTMLModel",
          "model_module_version": "1.5.0",
          "state": {
            "_view_name": "HTMLView",
            "style": "IPY_MODEL_481a43679cd540ba8307cd5f09461270",
            "_dom_classes": [],
            "description": "",
            "_model_name": "HTMLModel",
            "placeholder": "​",
            "_view_module": "@jupyter-widgets/controls",
            "_model_module_version": "1.5.0",
            "value": "Downloading: 100%",
            "_view_count": null,
            "_view_module_version": "1.5.0",
            "description_tooltip": null,
            "_model_module": "@jupyter-widgets/controls",
            "layout": "IPY_MODEL_2ead9dddd8064e519203a97d2d56784a"
          }
        },
        "2095977e486042c4b597b0f67e902c2f": {
          "model_module": "@jupyter-widgets/controls",
          "model_name": "FloatProgressModel",
          "model_module_version": "1.5.0",
          "state": {
            "_view_name": "ProgressView",
            "style": "IPY_MODEL_67a0cd5944204685b977c2e105f73607",
            "_dom_classes": [],
            "description": "",
            "_model_name": "FloatProgressModel",
            "bar_style": "success",
            "max": 570,
            "_view_module": "@jupyter-widgets/controls",
            "_model_module_version": "1.5.0",
            "value": 570,
            "_view_count": null,
            "_view_module_version": "1.5.0",
            "orientation": "horizontal",
            "min": 0,
            "description_tooltip": null,
            "_model_module": "@jupyter-widgets/controls",
            "layout": "IPY_MODEL_6252fe6060c34ce1adce5fe8aa08bd67"
          }
        },
        "8c10b77af0cf4afba14540868ff8a4b8": {
          "model_module": "@jupyter-widgets/controls",
          "model_name": "HTMLModel",
          "model_module_version": "1.5.0",
          "state": {
            "_view_name": "HTMLView",
            "style": "IPY_MODEL_19815cf698994f578b8abe6e20649954",
            "_dom_classes": [],
            "description": "",
            "_model_name": "HTMLModel",
            "placeholder": "​",
            "_view_module": "@jupyter-widgets/controls",
            "_model_module_version": "1.5.0",
            "value": " 570/570 [00:00&lt;00:00, 16.3kB/s]",
            "_view_count": null,
            "_view_module_version": "1.5.0",
            "description_tooltip": null,
            "_model_module": "@jupyter-widgets/controls",
            "layout": "IPY_MODEL_5f4a9400add0412cac8b811c1e80d348"
          }
        },
        "481a43679cd540ba8307cd5f09461270": {
          "model_module": "@jupyter-widgets/controls",
          "model_name": "DescriptionStyleModel",
          "model_module_version": "1.5.0",
          "state": {
            "_view_name": "StyleView",
            "_model_name": "DescriptionStyleModel",
            "description_width": "",
            "_view_module": "@jupyter-widgets/base",
            "_model_module_version": "1.5.0",
            "_view_count": null,
            "_view_module_version": "1.2.0",
            "_model_module": "@jupyter-widgets/controls"
          }
        },
        "2ead9dddd8064e519203a97d2d56784a": {
          "model_module": "@jupyter-widgets/base",
          "model_name": "LayoutModel",
          "model_module_version": "1.2.0",
          "state": {
            "_view_name": "LayoutView",
            "grid_template_rows": null,
            "right": null,
            "justify_content": null,
            "_view_module": "@jupyter-widgets/base",
            "overflow": null,
            "_model_module_version": "1.2.0",
            "_view_count": null,
            "flex_flow": null,
            "width": null,
            "min_width": null,
            "border": null,
            "align_items": null,
            "bottom": null,
            "_model_module": "@jupyter-widgets/base",
            "top": null,
            "grid_column": null,
            "overflow_y": null,
            "overflow_x": null,
            "grid_auto_flow": null,
            "grid_area": null,
            "grid_template_columns": null,
            "flex": null,
            "_model_name": "LayoutModel",
            "justify_items": null,
            "grid_row": null,
            "max_height": null,
            "align_content": null,
            "visibility": null,
            "align_self": null,
            "height": null,
            "min_height": null,
            "padding": null,
            "grid_auto_rows": null,
            "grid_gap": null,
            "max_width": null,
            "order": null,
            "_view_module_version": "1.2.0",
            "grid_template_areas": null,
            "object_position": null,
            "object_fit": null,
            "grid_auto_columns": null,
            "margin": null,
            "display": null,
            "left": null
          }
        },
        "67a0cd5944204685b977c2e105f73607": {
          "model_module": "@jupyter-widgets/controls",
          "model_name": "ProgressStyleModel",
          "model_module_version": "1.5.0",
          "state": {
            "_view_name": "StyleView",
            "_model_name": "ProgressStyleModel",
            "description_width": "",
            "_view_module": "@jupyter-widgets/base",
            "_model_module_version": "1.5.0",
            "_view_count": null,
            "_view_module_version": "1.2.0",
            "bar_color": null,
            "_model_module": "@jupyter-widgets/controls"
          }
        },
        "6252fe6060c34ce1adce5fe8aa08bd67": {
          "model_module": "@jupyter-widgets/base",
          "model_name": "LayoutModel",
          "model_module_version": "1.2.0",
          "state": {
            "_view_name": "LayoutView",
            "grid_template_rows": null,
            "right": null,
            "justify_content": null,
            "_view_module": "@jupyter-widgets/base",
            "overflow": null,
            "_model_module_version": "1.2.0",
            "_view_count": null,
            "flex_flow": null,
            "width": null,
            "min_width": null,
            "border": null,
            "align_items": null,
            "bottom": null,
            "_model_module": "@jupyter-widgets/base",
            "top": null,
            "grid_column": null,
            "overflow_y": null,
            "overflow_x": null,
            "grid_auto_flow": null,
            "grid_area": null,
            "grid_template_columns": null,
            "flex": null,
            "_model_name": "LayoutModel",
            "justify_items": null,
            "grid_row": null,
            "max_height": null,
            "align_content": null,
            "visibility": null,
            "align_self": null,
            "height": null,
            "min_height": null,
            "padding": null,
            "grid_auto_rows": null,
            "grid_gap": null,
            "max_width": null,
            "order": null,
            "_view_module_version": "1.2.0",
            "grid_template_areas": null,
            "object_position": null,
            "object_fit": null,
            "grid_auto_columns": null,
            "margin": null,
            "display": null,
            "left": null
          }
        },
        "19815cf698994f578b8abe6e20649954": {
          "model_module": "@jupyter-widgets/controls",
          "model_name": "DescriptionStyleModel",
          "model_module_version": "1.5.0",
          "state": {
            "_view_name": "StyleView",
            "_model_name": "DescriptionStyleModel",
            "description_width": "",
            "_view_module": "@jupyter-widgets/base",
            "_model_module_version": "1.5.0",
            "_view_count": null,
            "_view_module_version": "1.2.0",
            "_model_module": "@jupyter-widgets/controls"
          }
        },
        "5f4a9400add0412cac8b811c1e80d348": {
          "model_module": "@jupyter-widgets/base",
          "model_name": "LayoutModel",
          "model_module_version": "1.2.0",
          "state": {
            "_view_name": "LayoutView",
            "grid_template_rows": null,
            "right": null,
            "justify_content": null,
            "_view_module": "@jupyter-widgets/base",
            "overflow": null,
            "_model_module_version": "1.2.0",
            "_view_count": null,
            "flex_flow": null,
            "width": null,
            "min_width": null,
            "border": null,
            "align_items": null,
            "bottom": null,
            "_model_module": "@jupyter-widgets/base",
            "top": null,
            "grid_column": null,
            "overflow_y": null,
            "overflow_x": null,
            "grid_auto_flow": null,
            "grid_area": null,
            "grid_template_columns": null,
            "flex": null,
            "_model_name": "LayoutModel",
            "justify_items": null,
            "grid_row": null,
            "max_height": null,
            "align_content": null,
            "visibility": null,
            "align_self": null,
            "height": null,
            "min_height": null,
            "padding": null,
            "grid_auto_rows": null,
            "grid_gap": null,
            "max_width": null,
            "order": null,
            "_view_module_version": "1.2.0",
            "grid_template_areas": null,
            "object_position": null,
            "object_fit": null,
            "grid_auto_columns": null,
            "margin": null,
            "display": null,
            "left": null
          }
        },
        "15af4adf16704df0908194976938ef7f": {
          "model_module": "@jupyter-widgets/controls",
          "model_name": "HBoxModel",
          "model_module_version": "1.5.0",
          "state": {
            "_view_name": "HBoxView",
            "_dom_classes": [],
            "_model_name": "HBoxModel",
            "_view_module": "@jupyter-widgets/controls",
            "_model_module_version": "1.5.0",
            "_view_count": null,
            "_view_module_version": "1.5.0",
            "box_style": "",
            "layout": "IPY_MODEL_4cb49892c36b49f3a85ac199294c4a78",
            "_model_module": "@jupyter-widgets/controls",
            "children": [
              "IPY_MODEL_85764727eea84e64a37f9518199563d4",
              "IPY_MODEL_385c22509e8348378b3957a462e542ca",
              "IPY_MODEL_142c1ebb663440ee841e9f197fd21bb3"
            ]
          }
        },
        "4cb49892c36b49f3a85ac199294c4a78": {
          "model_module": "@jupyter-widgets/base",
          "model_name": "LayoutModel",
          "model_module_version": "1.2.0",
          "state": {
            "_view_name": "LayoutView",
            "grid_template_rows": null,
            "right": null,
            "justify_content": null,
            "_view_module": "@jupyter-widgets/base",
            "overflow": null,
            "_model_module_version": "1.2.0",
            "_view_count": null,
            "flex_flow": null,
            "width": null,
            "min_width": null,
            "border": null,
            "align_items": null,
            "bottom": null,
            "_model_module": "@jupyter-widgets/base",
            "top": null,
            "grid_column": null,
            "overflow_y": null,
            "overflow_x": null,
            "grid_auto_flow": null,
            "grid_area": null,
            "grid_template_columns": null,
            "flex": null,
            "_model_name": "LayoutModel",
            "justify_items": null,
            "grid_row": null,
            "max_height": null,
            "align_content": null,
            "visibility": null,
            "align_self": null,
            "height": null,
            "min_height": null,
            "padding": null,
            "grid_auto_rows": null,
            "grid_gap": null,
            "max_width": null,
            "order": null,
            "_view_module_version": "1.2.0",
            "grid_template_areas": null,
            "object_position": null,
            "object_fit": null,
            "grid_auto_columns": null,
            "margin": null,
            "display": null,
            "left": null
          }
        },
        "85764727eea84e64a37f9518199563d4": {
          "model_module": "@jupyter-widgets/controls",
          "model_name": "HTMLModel",
          "model_module_version": "1.5.0",
          "state": {
            "_view_name": "HTMLView",
            "style": "IPY_MODEL_5ac8d9376f5945e68b3b4997bfbaf655",
            "_dom_classes": [],
            "description": "",
            "_model_name": "HTMLModel",
            "placeholder": "​",
            "_view_module": "@jupyter-widgets/controls",
            "_model_module_version": "1.5.0",
            "value": "Downloading: 100%",
            "_view_count": null,
            "_view_module_version": "1.5.0",
            "description_tooltip": null,
            "_model_module": "@jupyter-widgets/controls",
            "layout": "IPY_MODEL_67d86cef07664b608a3431fd5e02db10"
          }
        },
        "385c22509e8348378b3957a462e542ca": {
          "model_module": "@jupyter-widgets/controls",
          "model_name": "FloatProgressModel",
          "model_module_version": "1.5.0",
          "state": {
            "_view_name": "ProgressView",
            "style": "IPY_MODEL_2709696800ec4a3bbe55ae0d784575d0",
            "_dom_classes": [],
            "description": "",
            "_model_name": "FloatProgressModel",
            "bar_style": "success",
            "max": 435779157,
            "_view_module": "@jupyter-widgets/controls",
            "_model_module_version": "1.5.0",
            "value": 435779157,
            "_view_count": null,
            "_view_module_version": "1.5.0",
            "orientation": "horizontal",
            "min": 0,
            "description_tooltip": null,
            "_model_module": "@jupyter-widgets/controls",
            "layout": "IPY_MODEL_6812577a1df342e1a571afda6f405d48"
          }
        },
        "142c1ebb663440ee841e9f197fd21bb3": {
          "model_module": "@jupyter-widgets/controls",
          "model_name": "HTMLModel",
          "model_module_version": "1.5.0",
          "state": {
            "_view_name": "HTMLView",
            "style": "IPY_MODEL_be547138814c4c98a4b81604d51730fc",
            "_dom_classes": [],
            "description": "",
            "_model_name": "HTMLModel",
            "placeholder": "​",
            "_view_module": "@jupyter-widgets/controls",
            "_model_module_version": "1.5.0",
            "value": " 416M/416M [00:23&lt;00:00, 21.0MB/s]",
            "_view_count": null,
            "_view_module_version": "1.5.0",
            "description_tooltip": null,
            "_model_module": "@jupyter-widgets/controls",
            "layout": "IPY_MODEL_3c201156a5fc4d3a9b2ec2bd57fc62ec"
          }
        },
        "5ac8d9376f5945e68b3b4997bfbaf655": {
          "model_module": "@jupyter-widgets/controls",
          "model_name": "DescriptionStyleModel",
          "model_module_version": "1.5.0",
          "state": {
            "_view_name": "StyleView",
            "_model_name": "DescriptionStyleModel",
            "description_width": "",
            "_view_module": "@jupyter-widgets/base",
            "_model_module_version": "1.5.0",
            "_view_count": null,
            "_view_module_version": "1.2.0",
            "_model_module": "@jupyter-widgets/controls"
          }
        },
        "67d86cef07664b608a3431fd5e02db10": {
          "model_module": "@jupyter-widgets/base",
          "model_name": "LayoutModel",
          "model_module_version": "1.2.0",
          "state": {
            "_view_name": "LayoutView",
            "grid_template_rows": null,
            "right": null,
            "justify_content": null,
            "_view_module": "@jupyter-widgets/base",
            "overflow": null,
            "_model_module_version": "1.2.0",
            "_view_count": null,
            "flex_flow": null,
            "width": null,
            "min_width": null,
            "border": null,
            "align_items": null,
            "bottom": null,
            "_model_module": "@jupyter-widgets/base",
            "top": null,
            "grid_column": null,
            "overflow_y": null,
            "overflow_x": null,
            "grid_auto_flow": null,
            "grid_area": null,
            "grid_template_columns": null,
            "flex": null,
            "_model_name": "LayoutModel",
            "justify_items": null,
            "grid_row": null,
            "max_height": null,
            "align_content": null,
            "visibility": null,
            "align_self": null,
            "height": null,
            "min_height": null,
            "padding": null,
            "grid_auto_rows": null,
            "grid_gap": null,
            "max_width": null,
            "order": null,
            "_view_module_version": "1.2.0",
            "grid_template_areas": null,
            "object_position": null,
            "object_fit": null,
            "grid_auto_columns": null,
            "margin": null,
            "display": null,
            "left": null
          }
        },
        "2709696800ec4a3bbe55ae0d784575d0": {
          "model_module": "@jupyter-widgets/controls",
          "model_name": "ProgressStyleModel",
          "model_module_version": "1.5.0",
          "state": {
            "_view_name": "StyleView",
            "_model_name": "ProgressStyleModel",
            "description_width": "",
            "_view_module": "@jupyter-widgets/base",
            "_model_module_version": "1.5.0",
            "_view_count": null,
            "_view_module_version": "1.2.0",
            "bar_color": null,
            "_model_module": "@jupyter-widgets/controls"
          }
        },
        "6812577a1df342e1a571afda6f405d48": {
          "model_module": "@jupyter-widgets/base",
          "model_name": "LayoutModel",
          "model_module_version": "1.2.0",
          "state": {
            "_view_name": "LayoutView",
            "grid_template_rows": null,
            "right": null,
            "justify_content": null,
            "_view_module": "@jupyter-widgets/base",
            "overflow": null,
            "_model_module_version": "1.2.0",
            "_view_count": null,
            "flex_flow": null,
            "width": null,
            "min_width": null,
            "border": null,
            "align_items": null,
            "bottom": null,
            "_model_module": "@jupyter-widgets/base",
            "top": null,
            "grid_column": null,
            "overflow_y": null,
            "overflow_x": null,
            "grid_auto_flow": null,
            "grid_area": null,
            "grid_template_columns": null,
            "flex": null,
            "_model_name": "LayoutModel",
            "justify_items": null,
            "grid_row": null,
            "max_height": null,
            "align_content": null,
            "visibility": null,
            "align_self": null,
            "height": null,
            "min_height": null,
            "padding": null,
            "grid_auto_rows": null,
            "grid_gap": null,
            "max_width": null,
            "order": null,
            "_view_module_version": "1.2.0",
            "grid_template_areas": null,
            "object_position": null,
            "object_fit": null,
            "grid_auto_columns": null,
            "margin": null,
            "display": null,
            "left": null
          }
        },
        "be547138814c4c98a4b81604d51730fc": {
          "model_module": "@jupyter-widgets/controls",
          "model_name": "DescriptionStyleModel",
          "model_module_version": "1.5.0",
          "state": {
            "_view_name": "StyleView",
            "_model_name": "DescriptionStyleModel",
            "description_width": "",
            "_view_module": "@jupyter-widgets/base",
            "_model_module_version": "1.5.0",
            "_view_count": null,
            "_view_module_version": "1.2.0",
            "_model_module": "@jupyter-widgets/controls"
          }
        },
        "3c201156a5fc4d3a9b2ec2bd57fc62ec": {
          "model_module": "@jupyter-widgets/base",
          "model_name": "LayoutModel",
          "model_module_version": "1.2.0",
          "state": {
            "_view_name": "LayoutView",
            "grid_template_rows": null,
            "right": null,
            "justify_content": null,
            "_view_module": "@jupyter-widgets/base",
            "overflow": null,
            "_model_module_version": "1.2.0",
            "_view_count": null,
            "flex_flow": null,
            "width": null,
            "min_width": null,
            "border": null,
            "align_items": null,
            "bottom": null,
            "_model_module": "@jupyter-widgets/base",
            "top": null,
            "grid_column": null,
            "overflow_y": null,
            "overflow_x": null,
            "grid_auto_flow": null,
            "grid_area": null,
            "grid_template_columns": null,
            "flex": null,
            "_model_name": "LayoutModel",
            "justify_items": null,
            "grid_row": null,
            "max_height": null,
            "align_content": null,
            "visibility": null,
            "align_self": null,
            "height": null,
            "min_height": null,
            "padding": null,
            "grid_auto_rows": null,
            "grid_gap": null,
            "max_width": null,
            "order": null,
            "_view_module_version": "1.2.0",
            "grid_template_areas": null,
            "object_position": null,
            "object_fit": null,
            "grid_auto_columns": null,
            "margin": null,
            "display": null,
            "left": null
          }
        }
      }
    }
  },
  "cells": [
    {
      "cell_type": "markdown",
      "metadata": {
        "id": "anfiTdheK1_C"
      },
      "source": [
        "Sentiment analysis bằng mô hình BERT, code theo hướng dẫn ở [đây](https://curiousily.com/posts/sentiment-analysis-with-bert-and-hugging-face-using-pytorch-and-python/#sentiment-classification-with-bert-and-hugging-face) và theo [series này](https://www.youtube.com/playlist?list=PLEJK-H61XlwxpfpVzt3oDLQ8vr1XiEhev)"
      ]
    },
    {
      "cell_type": "code",
      "metadata": {
        "colab": {
          "base_uri": "https://localhost:8080/"
        },
        "id": "a-zHKY6X-b7_",
        "outputId": "e0909fa3-a02d-4b1c-cecf-22510545adb6"
      },
      "source": [
        "!pip install transformers"
      ],
      "execution_count": 1,
      "outputs": [
        {
          "output_type": "stream",
          "name": "stdout",
          "text": [
            "Collecting transformers\n",
            "  Downloading transformers-4.12.5-py3-none-any.whl (3.1 MB)\n",
            "\u001b[K     |████████████████████████████████| 3.1 MB 5.3 MB/s \n",
            "\u001b[?25hRequirement already satisfied: tqdm>=4.27 in /usr/local/lib/python3.7/dist-packages (from transformers) (4.62.3)\n",
            "Requirement already satisfied: numpy>=1.17 in /usr/local/lib/python3.7/dist-packages (from transformers) (1.19.5)\n",
            "Requirement already satisfied: filelock in /usr/local/lib/python3.7/dist-packages (from transformers) (3.4.0)\n",
            "Collecting sacremoses\n",
            "  Downloading sacremoses-0.0.46-py3-none-any.whl (895 kB)\n",
            "\u001b[K     |████████████████████████████████| 895 kB 46.5 MB/s \n",
            "\u001b[?25hCollecting tokenizers<0.11,>=0.10.1\n",
            "  Downloading tokenizers-0.10.3-cp37-cp37m-manylinux_2_5_x86_64.manylinux1_x86_64.manylinux_2_12_x86_64.manylinux2010_x86_64.whl (3.3 MB)\n",
            "\u001b[K     |████████████████████████████████| 3.3 MB 30.3 MB/s \n",
            "\u001b[?25hCollecting pyyaml>=5.1\n",
            "  Downloading PyYAML-6.0-cp37-cp37m-manylinux_2_5_x86_64.manylinux1_x86_64.manylinux_2_12_x86_64.manylinux2010_x86_64.whl (596 kB)\n",
            "\u001b[K     |████████████████████████████████| 596 kB 43.0 MB/s \n",
            "\u001b[?25hRequirement already satisfied: importlib-metadata in /usr/local/lib/python3.7/dist-packages (from transformers) (4.8.2)\n",
            "Requirement already satisfied: regex!=2019.12.17 in /usr/local/lib/python3.7/dist-packages (from transformers) (2019.12.20)\n",
            "Collecting huggingface-hub<1.0,>=0.1.0\n",
            "  Downloading huggingface_hub-0.1.2-py3-none-any.whl (59 kB)\n",
            "\u001b[K     |████████████████████████████████| 59 kB 6.5 MB/s \n",
            "\u001b[?25hRequirement already satisfied: packaging>=20.0 in /usr/local/lib/python3.7/dist-packages (from transformers) (21.3)\n",
            "Requirement already satisfied: requests in /usr/local/lib/python3.7/dist-packages (from transformers) (2.23.0)\n",
            "Requirement already satisfied: typing-extensions>=3.7.4.3 in /usr/local/lib/python3.7/dist-packages (from huggingface-hub<1.0,>=0.1.0->transformers) (3.10.0.2)\n",
            "Requirement already satisfied: pyparsing!=3.0.5,>=2.0.2 in /usr/local/lib/python3.7/dist-packages (from packaging>=20.0->transformers) (3.0.6)\n",
            "Requirement already satisfied: zipp>=0.5 in /usr/local/lib/python3.7/dist-packages (from importlib-metadata->transformers) (3.6.0)\n",
            "Requirement already satisfied: certifi>=2017.4.17 in /usr/local/lib/python3.7/dist-packages (from requests->transformers) (2021.10.8)\n",
            "Requirement already satisfied: chardet<4,>=3.0.2 in /usr/local/lib/python3.7/dist-packages (from requests->transformers) (3.0.4)\n",
            "Requirement already satisfied: idna<3,>=2.5 in /usr/local/lib/python3.7/dist-packages (from requests->transformers) (2.10)\n",
            "Requirement already satisfied: urllib3!=1.25.0,!=1.25.1,<1.26,>=1.21.1 in /usr/local/lib/python3.7/dist-packages (from requests->transformers) (1.24.3)\n",
            "Requirement already satisfied: six in /usr/local/lib/python3.7/dist-packages (from sacremoses->transformers) (1.15.0)\n",
            "Requirement already satisfied: joblib in /usr/local/lib/python3.7/dist-packages (from sacremoses->transformers) (1.1.0)\n",
            "Requirement already satisfied: click in /usr/local/lib/python3.7/dist-packages (from sacremoses->transformers) (7.1.2)\n",
            "Installing collected packages: pyyaml, tokenizers, sacremoses, huggingface-hub, transformers\n",
            "  Attempting uninstall: pyyaml\n",
            "    Found existing installation: PyYAML 3.13\n",
            "    Uninstalling PyYAML-3.13:\n",
            "      Successfully uninstalled PyYAML-3.13\n",
            "Successfully installed huggingface-hub-0.1.2 pyyaml-6.0 sacremoses-0.0.46 tokenizers-0.10.3 transformers-4.12.5\n"
          ]
        }
      ]
    },
    {
      "cell_type": "markdown",
      "metadata": {
        "id": "Sq7PGVNm7lj9"
      },
      "source": [
        "# **Chuẩn bị các thư viện và GPU**"
      ]
    },
    {
      "cell_type": "code",
      "metadata": {
        "id": "asazj8suRBBb"
      },
      "source": [
        "import transformers\n",
        "from transformers import BertModel, BertTokenizer, AdamW, get_linear_schedule_with_warmup\n",
        "import torch\n",
        "import numpy as np\n",
        "import pandas as pd\n",
        "import seaborn as sns\n",
        "from pylab import rcParams\n",
        "import matplotlib.pyplot as plt\n",
        "from matplotlib import rc\n",
        "from sklearn.model_selection import train_test_split\n",
        "from sklearn.metrics import confusion_matrix, classification_report\n",
        "from collections import defaultdict\n",
        "from textwrap import wrap\n",
        "from torch import nn, optim\n",
        "from torch.utils.data import Dataset, DataLoader\n",
        "%matplotlib inline\n",
        "%config InlineBackend.figure_format='retina'\n",
        "\n",
        "sns.set(style='whitegrid', palette='muted', font_scale=1.2)\n",
        "\n",
        "HAPPY_COLORS_PALETTE = [\"#01BEFE\", \"#FFDD00\", \"#FF7D00\", \"#FF006D\", \"#ADFF02\", \"#8F00FF\"]\n",
        "\n",
        "sns.set_palette(sns.color_palette(HAPPY_COLORS_PALETTE))\n",
        "\n",
        "rcParams['figure.figsize'] = 12, 8\n",
        "\n",
        "RANDOM_SEED = 42\n",
        "\n",
        "np.random.seed(RANDOM_SEED)\n",
        "\n",
        "torch.manual_seed(RANDOM_SEED)\n",
        "\n",
        "device = torch.device(\"cuda:0\" if torch.cuda.is_available() else \"cpu\")"
      ],
      "execution_count": 2,
      "outputs": []
    },
    {
      "cell_type": "markdown",
      "metadata": {
        "id": "OISGJpoD8EIn"
      },
      "source": [
        "# **Tải Dataset**"
      ]
    },
    {
      "cell_type": "code",
      "metadata": {
        "colab": {
          "base_uri": "https://localhost:8080/"
        },
        "id": "IQfiGD3kRF1A",
        "outputId": "e4553cd9-a0c6-45e3-dfc2-6001d2601bf3"
      },
      "source": [
        "!gdown --id 1S6qMioqPJjyBLpLVz4gmRTnJHnjitnuV\n",
        "!gdown --id 1zdmewp7ayS4js4VtrJEHzAheSW-5NBZv"
      ],
      "execution_count": 3,
      "outputs": [
        {
          "output_type": "stream",
          "name": "stdout",
          "text": [
            "Downloading...\n",
            "From: https://drive.google.com/uc?id=1S6qMioqPJjyBLpLVz4gmRTnJHnjitnuV\n",
            "To: /content/apps.csv\n",
            "100% 134k/134k [00:00<00:00, 40.6MB/s]\n",
            "Downloading...\n",
            "From: https://drive.google.com/uc?id=1zdmewp7ayS4js4VtrJEHzAheSW-5NBZv\n",
            "To: /content/reviews.csv\n",
            "100% 7.17M/7.17M [00:00<00:00, 110MB/s]\n"
          ]
        }
      ]
    },
    {
      "cell_type": "code",
      "metadata": {
        "colab": {
          "base_uri": "https://localhost:8080/",
          "height": 642
        },
        "id": "N5DkQ0tfTpmb",
        "outputId": "a3644dd2-e1d6-4af0-bdbc-abfde5c534be"
      },
      "source": [
        "df = pd.read_csv(\"reviews.csv\")\n",
        "df.head()"
      ],
      "execution_count": 4,
      "outputs": [
        {
          "output_type": "execute_result",
          "data": {
            "text/html": [
              "<div>\n",
              "<style scoped>\n",
              "    .dataframe tbody tr th:only-of-type {\n",
              "        vertical-align: middle;\n",
              "    }\n",
              "\n",
              "    .dataframe tbody tr th {\n",
              "        vertical-align: top;\n",
              "    }\n",
              "\n",
              "    .dataframe thead th {\n",
              "        text-align: right;\n",
              "    }\n",
              "</style>\n",
              "<table border=\"1\" class=\"dataframe\">\n",
              "  <thead>\n",
              "    <tr style=\"text-align: right;\">\n",
              "      <th></th>\n",
              "      <th>userName</th>\n",
              "      <th>userImage</th>\n",
              "      <th>content</th>\n",
              "      <th>score</th>\n",
              "      <th>thumbsUpCount</th>\n",
              "      <th>reviewCreatedVersion</th>\n",
              "      <th>at</th>\n",
              "      <th>replyContent</th>\n",
              "      <th>repliedAt</th>\n",
              "      <th>sortOrder</th>\n",
              "      <th>appId</th>\n",
              "    </tr>\n",
              "  </thead>\n",
              "  <tbody>\n",
              "    <tr>\n",
              "      <th>0</th>\n",
              "      <td>Andrew Thomas</td>\n",
              "      <td>https://lh3.googleusercontent.com/a-/AOh14GiHd...</td>\n",
              "      <td>Update: After getting a response from the deve...</td>\n",
              "      <td>1</td>\n",
              "      <td>21</td>\n",
              "      <td>4.17.0.3</td>\n",
              "      <td>2020-04-05 22:25:57</td>\n",
              "      <td>According to our TOS, and the term you have ag...</td>\n",
              "      <td>2020-04-05 15:10:24</td>\n",
              "      <td>most_relevant</td>\n",
              "      <td>com.anydo</td>\n",
              "    </tr>\n",
              "    <tr>\n",
              "      <th>1</th>\n",
              "      <td>Craig Haines</td>\n",
              "      <td>https://lh3.googleusercontent.com/-hoe0kwSJgPQ...</td>\n",
              "      <td>Used it for a fair amount of time without any ...</td>\n",
              "      <td>1</td>\n",
              "      <td>11</td>\n",
              "      <td>4.17.0.3</td>\n",
              "      <td>2020-04-04 13:40:01</td>\n",
              "      <td>It sounds like you logged in with a different ...</td>\n",
              "      <td>2020-04-05 15:11:35</td>\n",
              "      <td>most_relevant</td>\n",
              "      <td>com.anydo</td>\n",
              "    </tr>\n",
              "    <tr>\n",
              "      <th>2</th>\n",
              "      <td>steven adkins</td>\n",
              "      <td>https://lh3.googleusercontent.com/a-/AOh14GiXw...</td>\n",
              "      <td>Your app sucks now!!!!! Used to be good but no...</td>\n",
              "      <td>1</td>\n",
              "      <td>17</td>\n",
              "      <td>4.17.0.3</td>\n",
              "      <td>2020-04-01 16:18:13</td>\n",
              "      <td>This sounds odd! We are not aware of any issue...</td>\n",
              "      <td>2020-04-02 16:05:56</td>\n",
              "      <td>most_relevant</td>\n",
              "      <td>com.anydo</td>\n",
              "    </tr>\n",
              "    <tr>\n",
              "      <th>3</th>\n",
              "      <td>Lars Panzerbjørn</td>\n",
              "      <td>https://lh3.googleusercontent.com/a-/AOh14Gg-h...</td>\n",
              "      <td>It seems OK, but very basic. Recurring tasks n...</td>\n",
              "      <td>1</td>\n",
              "      <td>192</td>\n",
              "      <td>4.17.0.2</td>\n",
              "      <td>2020-03-12 08:17:34</td>\n",
              "      <td>We do offer this option as part of the Advance...</td>\n",
              "      <td>2020-03-15 06:20:13</td>\n",
              "      <td>most_relevant</td>\n",
              "      <td>com.anydo</td>\n",
              "    </tr>\n",
              "    <tr>\n",
              "      <th>4</th>\n",
              "      <td>Scott Prewitt</td>\n",
              "      <td>https://lh3.googleusercontent.com/-K-X1-YsVd6U...</td>\n",
              "      <td>Absolutely worthless. This app runs a prohibit...</td>\n",
              "      <td>1</td>\n",
              "      <td>42</td>\n",
              "      <td>4.17.0.2</td>\n",
              "      <td>2020-03-14 17:41:01</td>\n",
              "      <td>We're sorry you feel this way! 90% of the app ...</td>\n",
              "      <td>2020-03-15 23:45:51</td>\n",
              "      <td>most_relevant</td>\n",
              "      <td>com.anydo</td>\n",
              "    </tr>\n",
              "  </tbody>\n",
              "</table>\n",
              "</div>"
            ],
            "text/plain": [
              "           userName  ...      appId\n",
              "0     Andrew Thomas  ...  com.anydo\n",
              "1      Craig Haines  ...  com.anydo\n",
              "2     steven adkins  ...  com.anydo\n",
              "3  Lars Panzerbjørn  ...  com.anydo\n",
              "4     Scott Prewitt  ...  com.anydo\n",
              "\n",
              "[5 rows x 11 columns]"
            ]
          },
          "metadata": {},
          "execution_count": 4
        }
      ]
    },
    {
      "cell_type": "code",
      "metadata": {
        "colab": {
          "base_uri": "https://localhost:8080/"
        },
        "id": "JBhpz50gTsBM",
        "outputId": "933ca99d-b645-415d-8c1b-4b286a1fe365"
      },
      "source": [
        "df.info()"
      ],
      "execution_count": 5,
      "outputs": [
        {
          "output_type": "stream",
          "name": "stdout",
          "text": [
            "<class 'pandas.core.frame.DataFrame'>\n",
            "RangeIndex: 15746 entries, 0 to 15745\n",
            "Data columns (total 11 columns):\n",
            " #   Column                Non-Null Count  Dtype \n",
            "---  ------                --------------  ----- \n",
            " 0   userName              15746 non-null  object\n",
            " 1   userImage             15746 non-null  object\n",
            " 2   content               15746 non-null  object\n",
            " 3   score                 15746 non-null  int64 \n",
            " 4   thumbsUpCount         15746 non-null  int64 \n",
            " 5   reviewCreatedVersion  13533 non-null  object\n",
            " 6   at                    15746 non-null  object\n",
            " 7   replyContent          7367 non-null   object\n",
            " 8   repliedAt             7367 non-null   object\n",
            " 9   sortOrder             15746 non-null  object\n",
            " 10  appId                 15746 non-null  object\n",
            "dtypes: int64(2), object(9)\n",
            "memory usage: 1.3+ MB\n"
          ]
        }
      ]
    },
    {
      "cell_type": "markdown",
      "metadata": {
        "id": "K214-KCW8i_L"
      },
      "source": [
        "Đếm số lượng feedback theo rating:"
      ]
    },
    {
      "cell_type": "code",
      "metadata": {
        "colab": {
          "base_uri": "https://localhost:8080/",
          "height": 561
        },
        "id": "l2s_byHKYUa9",
        "outputId": "130373a2-7710-4e3f-e436-e4c76f45c94e"
      },
      "source": [
        "sns.countplot(df.score)\n",
        "plt.xlabel('review score');"
      ],
      "execution_count": 6,
      "outputs": [
        {
          "output_type": "stream",
          "name": "stderr",
          "text": [
            "/usr/local/lib/python3.7/dist-packages/seaborn/_decorators.py:43: FutureWarning: Pass the following variable as a keyword arg: x. From version 0.12, the only valid positional argument will be `data`, and passing other arguments without an explicit keyword will result in an error or misinterpretation.\n",
            "  FutureWarning\n"
          ]
        },
        {
          "output_type": "display_data",
          "data": {
            "image/png": "[encoded data removed]",
            "text/plain": [
              "<Figure size 864x576 with 1 Axes>"
            ]
          },
          "metadata": {
            "image/png": {
              "width": 745,
              "height": 489
            }
          }
        }
      ]
    },
    {
      "cell_type": "markdown",
      "metadata": {
        "id": "fkE95Kvv8ypm"
      },
      "source": [
        "Vì Dataset có sự chênh lệch cao giữa các feedback có review score bằng 3 và các feedback khác, ta chia theo 3 tập positive, neutral và negative"
      ]
    },
    {
      "cell_type": "code",
      "metadata": {
        "id": "Cah_a-baYW-l"
      },
      "source": [
        "def to_sentiment(rating):\n",
        "  rating = int(rating)\n",
        "  if rating <= 2:\n",
        "    return 0\n",
        "  elif rating == 3:\n",
        "    return 1\n",
        "  else:\n",
        "    return 2\n",
        "\n",
        "    \n",
        "df['sentiment'] = df.score.apply(to_sentiment)\n",
        "\n",
        "class_names = ['negative', 'neutral', 'positive']\n"
      ],
      "execution_count": 7,
      "outputs": []
    },
    {
      "cell_type": "code",
      "metadata": {
        "colab": {
          "base_uri": "https://localhost:8080/",
          "height": 561
        },
        "id": "6wsUSLt8Ymji",
        "outputId": "95d12447-6afd-4528-b07a-bba578c6e252"
      },
      "source": [
        "ax = sns.countplot(df.sentiment)\n",
        "plt.xlabel('review sentiment')\n",
        "ax.set_xticklabels(class_names);"
      ],
      "execution_count": 8,
      "outputs": [
        {
          "output_type": "stream",
          "name": "stderr",
          "text": [
            "/usr/local/lib/python3.7/dist-packages/seaborn/_decorators.py:43: FutureWarning: Pass the following variable as a keyword arg: x. From version 0.12, the only valid positional argument will be `data`, and passing other arguments without an explicit keyword will result in an error or misinterpretation.\n",
            "  FutureWarning\n"
          ]
        },
        {
          "output_type": "display_data",
          "data": {
            "image/png": "[encoded data removed]",
            "text/plain": [
              "<Figure size 864x576 with 1 Axes>"
            ]
          },
          "metadata": {
            "image/png": {
              "width": 745,
              "height": 489
            }
          }
        }
      ]
    },
    {
      "cell_type": "markdown",
      "metadata": {
        "id": "cw7-HvbXdTzn"
      },
      "source": [
        "#**Tiền xử lý dữ liệu**"
      ]
    },
    {
      "cell_type": "markdown",
      "metadata": {
        "id": "75pyAc2h9RKq"
      },
      "source": [
        "Ta sử dụng mô hình đã huấn luyện trước để chia các từ, dấu câu thành các token"
      ]
    },
    {
      "cell_type": "code",
      "metadata": {
        "id": "vgEXABi8YuQg"
      },
      "source": [
        "PRE_TRAINED_MODEL_NAME = 'bert-base-cased'"
      ],
      "execution_count": 9,
      "outputs": []
    },
    {
      "cell_type": "code",
      "metadata": {
        "colab": {
          "base_uri": "https://localhost:8080/",
          "height": 145,
          "referenced_widgets": [
            "df420b98d14c4eaaa9d5efde97a3d2ee",
            "90698259156b4923acea646e11838126",
            "8c0815f0642e4edcb1fc3d56d02a91a2",
            "a65cb872e8f7495b9754635560ab56b1",
            "28e36521d0674375ac6e3e4b6546af17",
            "9d7247c4dd0946a580fc6edcf6b65286",
            "e2ff9c20fa034101a76234b2582ec554",
            "fbc37f4d15474ea7bac92479f0d0c34c",
            "9d7ce1f93afd486faf2ef01b0f808bf4",
            "5f64d16b9c1a485a852fb5243020eb4c",
            "4c85815fc559408488c16c825b25df29",
            "9bc4e1571f324d3abaf482301a6f379f",
            "3b593577c40c4754a9725f53f349fbd8",
            "0f2d41ccc3e5475cab33b0c0e50f6b5b",
            "b4b91754020c44b19c39cbd45d723778",
            "da7477bc6e434b918374686a8b43a1ab",
            "137ad86c460e4686838cb554f9421197",
            "32d80a42a69544a3a5846f29032138d3",
            "02f4fa9b483b4cc989c7287e38af244f",
            "ac966296434542b1aeef78ba1c511896",
            "e977bbb97839445d8fadfeb70e9bcf1e",
            "26f3fbbf874b47f08a5c7cf650305d38",
            "73c71b77d976483a94e15e07766701f3",
            "03b6593056554d48b48db726e6a11c7a",
            "f9aed931318c4c8096b9037f96669184",
            "ccb78aadf4214d06823d814c165f650c",
            "368df22daf1840a29440338692981861",
            "b3a81d650d744d5c84f6dfa312b3fabe",
            "23c87386e917445c94b79bb0787d6a37",
            "25c1b56f1ccb4497b0bd99244dc6637f",
            "babef36edbb747359d4071fd2da2a2bb",
            "66ff3f8667344a4192683918f96c3d29",
            "72f15d167b8247b3981c5ccbb4f6f49d",
            "f3a8fc9682bb4c819f2f67f8e882268a",
            "f444e5ba838d422d8aa14e91efd83c80",
            "75d4c3ba93874d81ac878e5cf57ef3aa",
            "2095977e486042c4b597b0f67e902c2f",
            "8c10b77af0cf4afba14540868ff8a4b8",
            "481a43679cd540ba8307cd5f09461270",
            "2ead9dddd8064e519203a97d2d56784a",
            "67a0cd5944204685b977c2e105f73607",
            "6252fe6060c34ce1adce5fe8aa08bd67",
            "19815cf698994f578b8abe6e20649954",
            "5f4a9400add0412cac8b811c1e80d348"
          ]
        },
        "id": "omnPcDI8YxB3",
        "outputId": "02bb1902-1ad1-46c4-81d0-1bd419190236"
      },
      "source": [
        "tokenizer = BertTokenizer.from_pretrained(PRE_TRAINED_MODEL_NAME)"
      ],
      "execution_count": 10,
      "outputs": [
        {
          "output_type": "display_data",
          "data": {
            "application/vnd.jupyter.widget-view+json": {
              "model_id": "df420b98d14c4eaaa9d5efde97a3d2ee",
              "version_minor": 0,
              "version_major": 2
            },
            "text/plain": [
              "Downloading:   0%|          | 0.00/208k [00:00<?, ?B/s]"
            ]
          },
          "metadata": {}
        },
        {
          "output_type": "display_data",
          "data": {
            "application/vnd.jupyter.widget-view+json": {
              "model_id": "9bc4e1571f324d3abaf482301a6f379f",
              "version_minor": 0,
              "version_major": 2
            },
            "text/plain": [
              "Downloading:   0%|          | 0.00/29.0 [00:00<?, ?B/s]"
            ]
          },
          "metadata": {}
        },
        {
          "output_type": "display_data",
          "data": {
            "application/vnd.jupyter.widget-view+json": {
              "model_id": "73c71b77d976483a94e15e07766701f3",
              "version_minor": 0,
              "version_major": 2
            },
            "text/plain": [
              "Downloading:   0%|          | 0.00/426k [00:00<?, ?B/s]"
            ]
          },
          "metadata": {}
        },
        {
          "output_type": "display_data",
          "data": {
            "application/vnd.jupyter.widget-view+json": {
              "model_id": "f3a8fc9682bb4c819f2f67f8e882268a",
              "version_minor": 0,
              "version_major": 2
            },
            "text/plain": [
              "Downloading:   0%|          | 0.00/570 [00:00<?, ?B/s]"
            ]
          },
          "metadata": {}
        }
      ]
    },
    {
      "cell_type": "code",
      "metadata": {
        "id": "Y474wjI6YzRd"
      },
      "source": [
        "sample_txt = 'Going to bed but seeing my buddy going to sleep so I decided not going to bed but going to sleep instead'"
      ],
      "execution_count": 11,
      "outputs": []
    },
    {
      "cell_type": "code",
      "metadata": {
        "colab": {
          "base_uri": "https://localhost:8080/"
        },
        "id": "KcDqnx_4Zuo2",
        "outputId": "ba777e39-b0dc-4d99-8179-011278b66b0f"
      },
      "source": [
        "tokens = tokenizer.tokenize(sample_txt)\n",
        "token_ids = tokenizer.convert_tokens_to_ids(tokens)\n",
        "print(f' Sentence: {sample_txt}')\n",
        "print(f'   Tokens: {tokens}')\n",
        "print(f'Token IDs: {token_ids}')"
      ],
      "execution_count": 12,
      "outputs": [
        {
          "output_type": "stream",
          "name": "stdout",
          "text": [
            " Sentence: Going to bed but seeing my buddy going to sleep so I decided not going to bed but going to sleep instead\n",
            "   Tokens: ['Going', 'to', 'bed', 'but', 'seeing', 'my', 'buddy', 'going', 'to', 'sleep', 'so', 'I', 'decided', 'not', 'going', 'to', 'bed', 'but', 'going', 'to', 'sleep', 'instead']\n",
            "Token IDs: [11099, 1106, 1908, 1133, 3195, 1139, 16723, 1280, 1106, 2946, 1177, 146, 1879, 1136, 1280, 1106, 1908, 1133, 1280, 1106, 2946, 1939]\n"
          ]
        }
      ]
    },
    {
      "cell_type": "code",
      "metadata": {
        "colab": {
          "base_uri": "https://localhost:8080/"
        },
        "id": "SUvaVFTBa5su",
        "outputId": "b47f154b-abe3-4fa8-94d9-6f76b85b73e2"
      },
      "source": [
        "encoding = tokenizer.encode_plus(\n",
        "  sample_txt,\n",
        "  max_length=32,\n",
        "  add_special_tokens=True, # xử dụng các token như [cls] và [sep], như trong paper BERT đề cập\n",
        "  return_token_type_ids=False,\n",
        "  padding=True,\n",
        "  return_attention_mask=True,\n",
        "  return_tensors='pt',\n",
        ")\n",
        "encoding.keys()"
      ],
      "execution_count": 13,
      "outputs": [
        {
          "output_type": "stream",
          "name": "stderr",
          "text": [
            "/usr/local/lib/python3.7/dist-packages/transformers/tokenization_utils_base.py:2229: UserWarning: `max_length` is ignored when `padding`=`True` and there is no truncation strategy. To pad to max length, use `padding='max_length'`.\n",
            "  \"`max_length` is ignored when `padding`=`True` and there is no truncation strategy. \"\n"
          ]
        },
        {
          "output_type": "execute_result",
          "data": {
            "text/plain": [
              "dict_keys(['input_ids', 'attention_mask'])"
            ]
          },
          "metadata": {},
          "execution_count": 13
        }
      ]
    },
    {
      "cell_type": "code",
      "metadata": {
        "colab": {
          "base_uri": "https://localhost:8080/"
        },
        "id": "6YKfaPTMbFx3",
        "outputId": "990cb552-223f-46f6-b841-feff974e7517"
      },
      "source": [
        "print(len(encoding['input_ids'][0]))\n",
        "encoding['input_ids'][0]"
      ],
      "execution_count": 14,
      "outputs": [
        {
          "output_type": "stream",
          "name": "stdout",
          "text": [
            "24\n"
          ]
        },
        {
          "output_type": "execute_result",
          "data": {
            "text/plain": [
              "tensor([  101, 11099,  1106,  1908,  1133,  3195,  1139, 16723,  1280,  1106,\n",
              "         2946,  1177,   146,  1879,  1136,  1280,  1106,  1908,  1133,  1280,\n",
              "         1106,  2946,  1939,   102])"
            ]
          },
          "metadata": {},
          "execution_count": 14
        }
      ]
    },
    {
      "cell_type": "code",
      "metadata": {
        "colab": {
          "base_uri": "https://localhost:8080/"
        },
        "id": "z3aWiYCqbGEh",
        "outputId": "430531f7-e451-48e3-bca7-9ffea878b490"
      },
      "source": [
        "print(len(encoding['attention_mask'][0]))\n",
        "encoding['attention_mask']"
      ],
      "execution_count": 15,
      "outputs": [
        {
          "output_type": "stream",
          "name": "stdout",
          "text": [
            "24\n"
          ]
        },
        {
          "output_type": "execute_result",
          "data": {
            "text/plain": [
              "tensor([[1, 1, 1, 1, 1, 1, 1, 1, 1, 1, 1, 1, 1, 1, 1, 1, 1, 1, 1, 1, 1, 1, 1, 1]])"
            ]
          },
          "metadata": {},
          "execution_count": 15
        }
      ]
    },
    {
      "cell_type": "code",
      "metadata": {
        "colab": {
          "base_uri": "https://localhost:8080/"
        },
        "id": "kLIdYVNYbaHz",
        "outputId": "0645cd7d-64a7-4a56-b36d-0db90cb590ce"
      },
      "source": [
        "tokenizer.convert_ids_to_tokens(encoding['input_ids'][0])"
      ],
      "execution_count": 16,
      "outputs": [
        {
          "output_type": "execute_result",
          "data": {
            "text/plain": [
              "['[CLS]',\n",
              " 'Going',\n",
              " 'to',\n",
              " 'bed',\n",
              " 'but',\n",
              " 'seeing',\n",
              " 'my',\n",
              " 'buddy',\n",
              " 'going',\n",
              " 'to',\n",
              " 'sleep',\n",
              " 'so',\n",
              " 'I',\n",
              " 'decided',\n",
              " 'not',\n",
              " 'going',\n",
              " 'to',\n",
              " 'bed',\n",
              " 'but',\n",
              " 'going',\n",
              " 'to',\n",
              " 'sleep',\n",
              " 'instead',\n",
              " '[SEP]']"
            ]
          },
          "metadata": {},
          "execution_count": 16
        }
      ]
    },
    {
      "cell_type": "code",
      "metadata": {
        "colab": {
          "base_uri": "https://localhost:8080/"
        },
        "id": "VMfnMdFqbezY",
        "outputId": "65ec3b97-a0c0-47e0-acbc-5cdb3182aff2"
      },
      "source": [
        "token_lens = []\n",
        "for txt in df.content:\n",
        "  tokens = tokenizer.encode(txt, max_length=512)\n",
        "  token_lens.append(len(tokens))"
      ],
      "execution_count": 17,
      "outputs": [
        {
          "output_type": "stream",
          "name": "stderr",
          "text": [
            "Truncation was not explicitly activated but `max_length` is provided a specific value, please use `truncation=True` to explicitly truncate examples to max length. Defaulting to 'longest_first' truncation strategy. If you encode pairs of sequences (GLUE-style) with the tokenizer you can select this strategy more precisely by providing a specific strategy to `truncation`.\n"
          ]
        }
      ]
    },
    {
      "cell_type": "code",
      "metadata": {
        "colab": {
          "base_uri": "https://localhost:8080/",
          "height": 378
        },
        "id": "C2gRYD8abmk1",
        "outputId": "09428744-b63b-4b7f-d4fc-ddf781481b88"
      },
      "source": [
        "sns.displot(token_lens)\n",
        "plt.xlim([0, 256]);\n",
        "plt.xlabel('Token count');"
      ],
      "execution_count": 18,
      "outputs": [
        {
          "output_type": "display_data",
          "data": {
            "image/png": "[encoded data removed]",
            "text/plain": [
              "<Figure size 360x360 with 1 Axes>"
            ]
          },
          "metadata": {
            "image/png": {
              "width": 349,
              "height": 361
            }
          }
        }
      ]
    },
    {
      "cell_type": "markdown",
      "metadata": {
        "id": "4LvSskS1AHUu"
      },
      "source": [
        "BERT hoạt động với các chuỗi có độ dài cố định. Hầu hết các feedback đều có số lượng token nhỏ hơn 150. Trong tutoral họ chọn 160 làm chiều dài max cố định cho 1 xâu, nhưng ta sẽ thử với 200"
      ]
    },
    {
      "cell_type": "code",
      "metadata": {
        "id": "-wYW6YQfbuAp"
      },
      "source": [
        "MAX_LEN = 200"
      ],
      "execution_count": 19,
      "outputs": []
    },
    {
      "cell_type": "markdown",
      "metadata": {
        "id": "PFbaL6Z6Awyo"
      },
      "source": [
        "Bắt đầu tiến hành tiền xử lý, ta thia tập test và tập train với tỷ lệ 1/9 rồi token hóa và nhét vào data loader. Mỗi một batch bao gồm 16 mẫu dữ liệu"
      ]
    },
    {
      "cell_type": "code",
      "metadata": {
        "id": "_Za9OEnFb3Iz"
      },
      "source": [
        "class GPReviewDataset(Dataset):\n",
        "  def __init__(self, reviews, targets, tokenizer, max_len):\n",
        "    self.reviews = reviews\n",
        "    self.targets = targets\n",
        "    self.tokenizer = tokenizer\n",
        "    self.max_len = max_len\n",
        "\n",
        "  def __len__(self):\n",
        "    return len(self.reviews)\n",
        "\n",
        "  def __getitem__(self, item):\n",
        "    review = str(self.reviews[item])\n",
        "    target = self.targets[item]\n",
        "    encoding = self.tokenizer.encode_plus(\n",
        "      review,\n",
        "      add_special_tokens=True,\n",
        "      max_length=self.max_len,\n",
        "      return_token_type_ids=False,\n",
        "      pad_to_max_length=True,\n",
        "      return_attention_mask=True,\n",
        "      return_tensors='pt',\n",
        "    )\n",
        "    \n",
        "    return {\n",
        "      'review_text': review,\n",
        "      'input_ids': encoding['input_ids'].flatten(),\n",
        "      'attention_mask': encoding['attention_mask'].flatten(),\n",
        "      'targets': torch.tensor(target, dtype=torch.long)\n",
        "    }"
      ],
      "execution_count": 20,
      "outputs": []
    },
    {
      "cell_type": "code",
      "metadata": {
        "id": "JqN5DlCub65U"
      },
      "source": [
        "df_train, df_test = train_test_split(\n",
        "  df,\n",
        "  test_size=0.1,\n",
        "  random_state=RANDOM_SEED\n",
        ")\n",
        "\n",
        "df_val, df_test = train_test_split(\n",
        "  df_test,\n",
        "  test_size=0.5,\n",
        "  random_state=RANDOM_SEED\n",
        ")"
      ],
      "execution_count": 21,
      "outputs": []
    },
    {
      "cell_type": "code",
      "metadata": {
        "colab": {
          "base_uri": "https://localhost:8080/"
        },
        "id": "-_15355Lb95h",
        "outputId": "78fb6b15-dad2-4b62-c33f-09b643afbfb2"
      },
      "source": [
        "df_train.shape, df_val.shape, df_test.shape"
      ],
      "execution_count": 22,
      "outputs": [
        {
          "output_type": "execute_result",
          "data": {
            "text/plain": [
              "((14171, 12), (787, 12), (788, 12))"
            ]
          },
          "metadata": {},
          "execution_count": 22
        }
      ]
    },
    {
      "cell_type": "code",
      "metadata": {
        "id": "13SuIP_bcABP"
      },
      "source": [
        "def create_data_loader(df, tokenizer, max_len, batch_size):\n",
        "  ds = GPReviewDataset(\n",
        "    reviews=df.content.to_numpy(),\n",
        "    targets=df.sentiment.to_numpy(),\n",
        "    tokenizer=tokenizer,\n",
        "    max_len=max_len\n",
        "  )\n",
        "  \n",
        "  return DataLoader(\n",
        "    ds,\n",
        "    batch_size=batch_size,\n",
        "    num_workers=4\n",
        "  )"
      ],
      "execution_count": 23,
      "outputs": []
    },
    {
      "cell_type": "code",
      "metadata": {
        "colab": {
          "base_uri": "https://localhost:8080/"
        },
        "id": "gXd2U2k6cDSn",
        "outputId": "1afd5ec9-1f91-422b-fcbd-f52b215476a1"
      },
      "source": [
        "BATCH_SIZE = 16\n",
        "train_data_loader = create_data_loader(df_train, tokenizer, MAX_LEN, BATCH_SIZE)\n",
        "val_data_loader = create_data_loader(df_val, tokenizer, MAX_LEN, BATCH_SIZE)\n",
        "test_data_loader = create_data_loader(df_test, tokenizer, MAX_LEN, BATCH_SIZE)"
      ],
      "execution_count": 24,
      "outputs": [
        {
          "output_type": "stream",
          "name": "stderr",
          "text": [
            "/usr/local/lib/python3.7/dist-packages/torch/utils/data/dataloader.py:481: UserWarning: This DataLoader will create 4 worker processes in total. Our suggested max number of worker in current system is 2, which is smaller than what this DataLoader is going to create. Please be aware that excessive worker creation might get DataLoader running slow or even freeze, lower the worker number to avoid potential slowness/freeze if necessary.\n",
            "  cpuset_checked))\n"
          ]
        }
      ]
    },
    {
      "cell_type": "code",
      "metadata": {
        "colab": {
          "base_uri": "https://localhost:8080/"
        },
        "id": "1YgOuNXFcGEo",
        "outputId": "d5e5268c-94f6-4b70-cc82-ff15ff70871b"
      },
      "source": [
        "data = next(iter(train_data_loader))\n",
        "data.keys()"
      ],
      "execution_count": 25,
      "outputs": [
        {
          "output_type": "stream",
          "name": "stderr",
          "text": [
            "/usr/local/lib/python3.7/dist-packages/torch/utils/data/dataloader.py:481: UserWarning: This DataLoader will create 4 worker processes in total. Our suggested max number of worker in current system is 2, which is smaller than what this DataLoader is going to create. Please be aware that excessive worker creation might get DataLoader running slow or even freeze, lower the worker number to avoid potential slowness/freeze if necessary.\n",
            "  cpuset_checked))\n",
            "/usr/local/lib/python3.7/dist-packages/transformers/tokenization_utils_base.py:2218: FutureWarning: The `pad_to_max_length` argument is deprecated and will be removed in a future version, use `padding=True` or `padding='longest'` to pad to the longest sequence in the batch, or use `padding='max_length'` to pad to a max length. In this case, you can give a specific length with `max_length` (e.g. `max_length=45`) or leave max_length to None to pad to the maximal input size of the model (e.g. 512 for Bert).\n",
            "  FutureWarning,\n",
            "/usr/local/lib/python3.7/dist-packages/transformers/tokenization_utils_base.py:2218: FutureWarning: The `pad_to_max_length` argument is deprecated and will be removed in a future version, use `padding=True` or `padding='longest'` to pad to the longest sequence in the batch, or use `padding='max_length'` to pad to a max length. In this case, you can give a specific length with `max_length` (e.g. `max_length=45`) or leave max_length to None to pad to the maximal input size of the model (e.g. 512 for Bert).\n",
            "  FutureWarning,\n",
            "/usr/local/lib/python3.7/dist-packages/transformers/tokenization_utils_base.py:2218: FutureWarning: The `pad_to_max_length` argument is deprecated and will be removed in a future version, use `padding=True` or `padding='longest'` to pad to the longest sequence in the batch, or use `padding='max_length'` to pad to a max length. In this case, you can give a specific length with `max_length` (e.g. `max_length=45`) or leave max_length to None to pad to the maximal input size of the model (e.g. 512 for Bert).\n",
            "  FutureWarning,\n",
            "/usr/local/lib/python3.7/dist-packages/transformers/tokenization_utils_base.py:2218: FutureWarning: The `pad_to_max_length` argument is deprecated and will be removed in a future version, use `padding=True` or `padding='longest'` to pad to the longest sequence in the batch, or use `padding='max_length'` to pad to a max length. In this case, you can give a specific length with `max_length` (e.g. `max_length=45`) or leave max_length to None to pad to the maximal input size of the model (e.g. 512 for Bert).\n",
            "  FutureWarning,\n"
          ]
        },
        {
          "output_type": "execute_result",
          "data": {
            "text/plain": [
              "dict_keys(['review_text', 'input_ids', 'attention_mask', 'targets'])"
            ]
          },
          "metadata": {},
          "execution_count": 25
        }
      ]
    },
    {
      "cell_type": "code",
      "metadata": {
        "colab": {
          "base_uri": "https://localhost:8080/"
        },
        "id": "6HPPSQBecJ7F",
        "outputId": "553f18ad-62d4-478d-ae5d-53af825bc97e"
      },
      "source": [
        "print(data['input_ids'].shape)\n",
        "print(data['attention_mask'].shape)\n",
        "print(data['targets'].shape)"
      ],
      "execution_count": 26,
      "outputs": [
        {
          "output_type": "stream",
          "name": "stdout",
          "text": [
            "torch.Size([16, 200])\n",
            "torch.Size([16, 200])\n",
            "torch.Size([16])\n"
          ]
        }
      ]
    },
    {
      "cell_type": "markdown",
      "metadata": {
        "id": "E9sgbzXveztg"
      },
      "source": [
        "#**Phân loại sentiment bằng BERT và Hugging Face**"
      ]
    },
    {
      "cell_type": "markdown",
      "metadata": {
        "id": "ytSr1xScEagU"
      },
      "source": [
        "Sử dụng mô hình BERT truyền thống"
      ]
    },
    {
      "cell_type": "code",
      "metadata": {
        "colab": {
          "base_uri": "https://localhost:8080/",
          "height": 121,
          "referenced_widgets": [
            "15af4adf16704df0908194976938ef7f",
            "4cb49892c36b49f3a85ac199294c4a78",
            "85764727eea84e64a37f9518199563d4",
            "385c22509e8348378b3957a462e542ca",
            "142c1ebb663440ee841e9f197fd21bb3",
            "5ac8d9376f5945e68b3b4997bfbaf655",
            "67d86cef07664b608a3431fd5e02db10",
            "2709696800ec4a3bbe55ae0d784575d0",
            "6812577a1df342e1a571afda6f405d48",
            "be547138814c4c98a4b81604d51730fc",
            "3c201156a5fc4d3a9b2ec2bd57fc62ec"
          ]
        },
        "id": "djqEXk9McZjR",
        "outputId": "792af44d-969b-4cc7-dd92-ad52748d9a48"
      },
      "source": [
        "bert_model = BertModel.from_pretrained(PRE_TRAINED_MODEL_NAME)"
      ],
      "execution_count": 27,
      "outputs": [
        {
          "output_type": "display_data",
          "data": {
            "application/vnd.jupyter.widget-view+json": {
              "model_id": "15af4adf16704df0908194976938ef7f",
              "version_minor": 0,
              "version_major": 2
            },
            "text/plain": [
              "Downloading:   0%|          | 0.00/416M [00:00<?, ?B/s]"
            ]
          },
          "metadata": {}
        },
        {
          "output_type": "stream",
          "name": "stderr",
          "text": [
            "Some weights of the model checkpoint at bert-base-cased were not used when initializing BertModel: ['cls.predictions.transform.dense.weight', 'cls.predictions.bias', 'cls.seq_relationship.weight', 'cls.predictions.transform.LayerNorm.weight', 'cls.seq_relationship.bias', 'cls.predictions.transform.dense.bias', 'cls.predictions.transform.LayerNorm.bias', 'cls.predictions.decoder.weight']\n",
            "- This IS expected if you are initializing BertModel from the checkpoint of a model trained on another task or with another architecture (e.g. initializing a BertForSequenceClassification model from a BertForPreTraining model).\n",
            "- This IS NOT expected if you are initializing BertModel from the checkpoint of a model that you expect to be exactly identical (initializing a BertForSequenceClassification model from a BertForSequenceClassification model).\n"
          ]
        }
      ]
    },
    {
      "cell_type": "code",
      "metadata": {
        "id": "sBFXRXrcccG5"
      },
      "source": [
        "output = bert_model(\n",
        "  input_ids=data['input_ids'], \n",
        "  attention_mask=data['attention_mask']\n",
        ")"
      ],
      "execution_count": 28,
      "outputs": []
    },
    {
      "cell_type": "code",
      "metadata": {
        "colab": {
          "base_uri": "https://localhost:8080/"
        },
        "id": "rE4F7HQbh3cb",
        "outputId": "4575b8d3-fe15-4788-eead-d232a0a50395"
      },
      "source": [
        "output.last_hidden_state.shape"
      ],
      "execution_count": 29,
      "outputs": [
        {
          "output_type": "execute_result",
          "data": {
            "text/plain": [
              "torch.Size([16, 200, 768])"
            ]
          },
          "metadata": {},
          "execution_count": 29
        }
      ]
    },
    {
      "cell_type": "code",
      "metadata": {
        "colab": {
          "base_uri": "https://localhost:8080/"
        },
        "id": "jhe4H3CziIfj",
        "outputId": "85b2d44e-93aa-494d-bf17-c8eaec584f14"
      },
      "source": [
        "output.pooler_output.shape"
      ],
      "execution_count": 30,
      "outputs": [
        {
          "output_type": "execute_result",
          "data": {
            "text/plain": [
              "torch.Size([16, 768])"
            ]
          },
          "metadata": {},
          "execution_count": 30
        }
      ]
    },
    {
      "cell_type": "markdown",
      "metadata": {
        "id": "4GTgvJVz0Oqe"
      },
      "source": [
        "Đầu ra của BERT là vector hidden_state được xác định trước tương ứng với mỗi token trong chuỗi đầu vào. pooler_output bản chất vẫn là vector last_hidden_state nhưng được xử lý qua hàm [bert_pooler](https://github.com/huggingface/transformers/blob/edf0582c0be87b60f94f41c659ea779876efc7be/src/transformers/modeling_bert.py#L426) chuyển từ từ 3D sang 2D để xử lý các task trong list [GLUE](https://www.tensorflow.org/text/tutorials/bert_glue). Bên dưới là ảnh minh họa lấy từ https://jalammar.github.io/illustrated-bert/\n"
      ]
    },
    {
      "cell_type": "markdown",
      "metadata": {
        "id": "Gf6aa01OtLs9"
      },
      "source": [
        "![hidden_state.png](data:image/png;base64,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)"
      ]
    },
    {
      "cell_type": "code",
      "metadata": {
        "id": "Ouw546L4chuD"
      },
      "source": [
        "class SentimentClassifier(nn.Module):\n",
        "  def __init__(self, n_classes):\n",
        "    super(SentimentClassifier, self).__init__()\n",
        "    self.bert = BertModel.from_pretrained(PRE_TRAINED_MODEL_NAME, return_dict=False)\n",
        "    self.drop = nn.Dropout(p=0.1) # thử chỉnh lại tỷ lệ dropout là 0.1 như trong paper thay vì 0.3 như trong tutorial\n",
        "    self.out = nn.Linear(self.bert.config.hidden_size, n_classes)\n",
        "    self.softmax = nn.Softmax(dim=1)\n",
        "  \n",
        "  def forward(self, input_ids, attention_mask):\n",
        "    _, pooled_output = self.bert(input_ids=input_ids, attention_mask=attention_mask)\n",
        "    output = self.drop(pooled_output)\n",
        "    output = self.out(output)\n",
        "\n",
        "    return self.softmax(output)"
      ],
      "execution_count": 31,
      "outputs": []
    },
    {
      "cell_type": "code",
      "metadata": {
        "colab": {
          "base_uri": "https://localhost:8080/"
        },
        "id": "-HZOFnBVcjY1",
        "outputId": "18fe3cae-65d6-45d5-b73d-6820c8cb4072"
      },
      "source": [
        "model = SentimentClassifier(len(class_names))\n",
        "model = model.to(device)"
      ],
      "execution_count": 32,
      "outputs": [
        {
          "output_type": "stream",
          "name": "stderr",
          "text": [
            "Some weights of the model checkpoint at bert-base-cased were not used when initializing BertModel: ['cls.predictions.transform.dense.weight', 'cls.predictions.bias', 'cls.seq_relationship.weight', 'cls.predictions.transform.LayerNorm.weight', 'cls.seq_relationship.bias', 'cls.predictions.transform.dense.bias', 'cls.predictions.transform.LayerNorm.bias', 'cls.predictions.decoder.weight']\n",
            "- This IS expected if you are initializing BertModel from the checkpoint of a model trained on another task or with another architecture (e.g. initializing a BertForSequenceClassification model from a BertForPreTraining model).\n",
            "- This IS NOT expected if you are initializing BertModel from the checkpoint of a model that you expect to be exactly identical (initializing a BertForSequenceClassification model from a BertForSequenceClassification model).\n"
          ]
        }
      ]
    },
    {
      "cell_type": "code",
      "metadata": {
        "colab": {
          "base_uri": "https://localhost:8080/"
        },
        "id": "qijkTIcGf7bS",
        "outputId": "b4f0a553-e547-4e4c-b912-20fa381bb760"
      },
      "source": [
        "input_ids = data['input_ids'].to(device)\n",
        "attention_mask = data['attention_mask'].to(device)\n",
        "print(input_ids.shape) # batch size x seq length\n",
        "print(attention_mask.shape) # batch size x seq length"
      ],
      "execution_count": 33,
      "outputs": [
        {
          "output_type": "stream",
          "name": "stdout",
          "text": [
            "torch.Size([16, 200])\n",
            "torch.Size([16, 200])\n"
          ]
        }
      ]
    },
    {
      "cell_type": "code",
      "metadata": {
        "colab": {
          "base_uri": "https://localhost:8080/"
        },
        "id": "SWUG0Vk9gHzF",
        "outputId": "94cf52b8-4a47-4f66-9bb1-feaff76450b9"
      },
      "source": [
        "model(input_ids, attention_mask)"
      ],
      "execution_count": 34,
      "outputs": [
        {
          "output_type": "execute_result",
          "data": {
            "text/plain": [
              "tensor([[0.2416, 0.3653, 0.3931],\n",
              "        [0.2328, 0.3540, 0.4131],\n",
              "        [0.2418, 0.3470, 0.4112],\n",
              "        [0.2393, 0.2986, 0.4621],\n",
              "        [0.4166, 0.2294, 0.3540],\n",
              "        [0.2668, 0.3254, 0.4078],\n",
              "        [0.3059, 0.2969, 0.3972],\n",
              "        [0.2857, 0.3396, 0.3747],\n",
              "        [0.3182, 0.2648, 0.4171],\n",
              "        [0.2592, 0.3050, 0.4358],\n",
              "        [0.2823, 0.3390, 0.3787],\n",
              "        [0.2558, 0.2417, 0.5025],\n",
              "        [0.2402, 0.4261, 0.3337],\n",
              "        [0.3108, 0.2571, 0.4322],\n",
              "        [0.3282, 0.2775, 0.3943],\n",
              "        [0.2585, 0.3082, 0.4334]], device='cuda:0', grad_fn=<SoftmaxBackward0>)"
            ]
          },
          "metadata": {},
          "execution_count": 34
        }
      ]
    },
    {
      "cell_type": "markdown",
      "metadata": {
        "id": "Gz0gJs50pYqV"
      },
      "source": [
        "### **Training**"
      ]
    },
    {
      "cell_type": "code",
      "metadata": {
        "id": "mXxY86cEpd_V"
      },
      "source": [
        "EPOCHS = 10\n",
        "optimizer = AdamW(model.parameters(), lr=2e-5, correct_bias=False) # BERT paper recommend 2e-5\n",
        "total_steps = len(train_data_loader) * EPOCHS\n",
        "\n",
        "scheduler = get_linear_schedule_with_warmup(\n",
        "  optimizer,\n",
        "  num_warmup_steps=0,\n",
        "  num_training_steps=total_steps\n",
        ")\n",
        "\n",
        "loss_fn = nn.CrossEntropyLoss().to(device)"
      ],
      "execution_count": 35,
      "outputs": []
    },
    {
      "cell_type": "code",
      "metadata": {
        "id": "0qS7Zxbhq_-r"
      },
      "source": [
        "def train_epoch(\n",
        "  model,\n",
        "  data_loader,\n",
        "  loss_fn,\n",
        "  optimizer,\n",
        "  device,\n",
        "  scheduler,\n",
        "  n_examples\n",
        "):\n",
        "  model = model.train()\n",
        "  losses = []\n",
        "  correct_predictions = 0\n",
        "  \n",
        "  for d in data_loader:\n",
        "    input_ids = d[\"input_ids\"].to(device)\n",
        "    attention_mask = d[\"attention_mask\"].to(device)\n",
        "    targets = d[\"targets\"].to(device)\n",
        "    outputs = model(\n",
        "      input_ids=input_ids,\n",
        "      attention_mask=attention_mask\n",
        "    )\n",
        "    \n",
        "    _, preds = torch.max(outputs, dim=1)\n",
        "    loss = loss_fn(outputs, targets)\n",
        "    correct_predictions += torch.sum(preds == targets)\n",
        "    losses.append(loss.item())\n",
        "    loss.backward()\n",
        "    \n",
        "    nn.utils.clip_grad_norm_(model.parameters(), max_norm=1.0)\n",
        "    \n",
        "    optimizer.step()\n",
        "    scheduler.step()\n",
        "    optimizer.zero_grad()\n",
        "\n",
        "  return correct_predictions.double() / n_examples, np.mean(losses)"
      ],
      "execution_count": 36,
      "outputs": []
    },
    {
      "cell_type": "code",
      "metadata": {
        "id": "aBaJUCZZvg-Z"
      },
      "source": [
        "def eval_model(model, data_loader, loss_fn, device, n_examples):\n",
        "  model = model.eval()\n",
        "  losses = []\n",
        "  correct_predictions = 0\n",
        "  \n",
        "  with torch.no_grad():\n",
        "    for d in data_loader:\n",
        "      input_ids = d[\"input_ids\"].to(device)\n",
        "      attention_mask = d[\"attention_mask\"].to(device)\n",
        "      targets = d[\"targets\"].to(device)\n",
        "      outputs = model(\n",
        "        input_ids=input_ids,\n",
        "        attention_mask=attention_mask\n",
        "      )\n",
        "      \n",
        "      _, preds = torch.max(outputs, dim=1)\n",
        "      \n",
        "      loss = loss_fn(outputs, targets)\n",
        "      \n",
        "      correct_predictions += torch.sum(preds == targets)\n",
        "      losses.append(loss.item())\n",
        "\n",
        "  return correct_predictions.double() / n_examples, np.mean(losses)"
      ],
      "execution_count": 37,
      "outputs": []
    },
    {
      "cell_type": "code",
      "metadata": {
        "colab": {
          "base_uri": "https://localhost:8080/"
        },
        "id": "Ub7J0SEjvoYu",
        "outputId": "cbbea2f2-4b8c-43c3-8061-e24fad4193cc"
      },
      "source": [
        "history = defaultdict(list)\n",
        "best_accuracy = 0\n",
        "\n",
        "for epoch in range(EPOCHS):\n",
        "  print(f'Epoch {epoch + 1}/{EPOCHS}')\n",
        "  print('-' * 10)\n",
        "\n",
        "  train_acc, train_loss = train_epoch(\n",
        "    model,\n",
        "    train_data_loader,\n",
        "    loss_fn,\n",
        "    optimizer,\n",
        "    device,\n",
        "    scheduler,\n",
        "    len(df_train)\n",
        "  )\n",
        "  \n",
        "  print(f'Train loss {train_loss} accuracy {train_acc}')\n",
        "  \n",
        "  val_acc, val_loss = eval_model(\n",
        "    model,\n",
        "    val_data_loader,\n",
        "    loss_fn,\n",
        "    device,\n",
        "    len(df_val)\n",
        "  )\n",
        "\n",
        "  print(f'Val loss {val_loss} accuracy {val_acc}')\n",
        "  print()\n",
        "  \n",
        "  history['train_acc'].append(train_acc)\n",
        "  history['train_loss'].append(train_loss)\n",
        "  history['val_acc'].append(val_acc)\n",
        "  history['val_loss'].append(val_loss)\n",
        "  \n",
        "  if val_acc > best_accuracy:\n",
        "    torch.save(model.state_dict(), 'bes t_model_state.bin')\n",
        "    best_accuracy = val_acc\n"
      ],
      "execution_count": 38,
      "outputs": [
        {
          "output_type": "stream",
          "name": "stdout",
          "text": [
            "Epoch 1/10\n",
            "----------\n"
          ]
        },
        {
          "output_type": "stream",
          "name": "stderr",
          "text": [
            "/usr/local/lib/python3.7/dist-packages/torch/utils/data/dataloader.py:481: UserWarning: This DataLoader will create 4 worker processes in total. Our suggested max number of worker in current system is 2, which is smaller than what this DataLoader is going to create. Please be aware that excessive worker creation might get DataLoader running slow or even freeze, lower the worker number to avoid potential slowness/freeze if necessary.\n",
            "  cpuset_checked))\n",
            "/usr/local/lib/python3.7/dist-packages/transformers/tokenization_utils_base.py:2218: FutureWarning: The `pad_to_max_length` argument is deprecated and will be removed in a future version, use `padding=True` or `padding='longest'` to pad to the longest sequence in the batch, or use `padding='max_length'` to pad to a max length. In this case, you can give a specific length with `max_length` (e.g. `max_length=45`) or leave max_length to None to pad to the maximal input size of the model (e.g. 512 for Bert).\n",
            "  FutureWarning,\n",
            "/usr/local/lib/python3.7/dist-packages/transformers/tokenization_utils_base.py:2218: FutureWarning: The `pad_to_max_length` argument is deprecated and will be removed in a future version, use `padding=True` or `padding='longest'` to pad to the longest sequence in the batch, or use `padding='max_length'` to pad to a max length. In this case, you can give a specific length with `max_length` (e.g. `max_length=45`) or leave max_length to None to pad to the maximal input size of the model (e.g. 512 for Bert).\n",
            "  FutureWarning,\n",
            "/usr/local/lib/python3.7/dist-packages/transformers/tokenization_utils_base.py:2218: FutureWarning: The `pad_to_max_length` argument is deprecated and will be removed in a future version, use `padding=True` or `padding='longest'` to pad to the longest sequence in the batch, or use `padding='max_length'` to pad to a max length. In this case, you can give a specific length with `max_length` (e.g. `max_length=45`) or leave max_length to None to pad to the maximal input size of the model (e.g. 512 for Bert).\n",
            "  FutureWarning,\n",
            "/usr/local/lib/python3.7/dist-packages/transformers/tokenization_utils_base.py:2218: FutureWarning: The `pad_to_max_length` argument is deprecated and will be removed in a future version, use `padding=True` or `padding='longest'` to pad to the longest sequence in the batch, or use `padding='max_length'` to pad to a max length. In this case, you can give a specific length with `max_length` (e.g. `max_length=45`) or leave max_length to None to pad to the maximal input size of the model (e.g. 512 for Bert).\n",
            "  FutureWarning,\n"
          ]
        },
        {
          "output_type": "stream",
          "name": "stdout",
          "text": [
            "Train loss 0.9073873319017699 accuracy 0.6271963869875097\n"
          ]
        },
        {
          "output_type": "stream",
          "name": "stderr",
          "text": [
            "/usr/local/lib/python3.7/dist-packages/transformers/tokenization_utils_base.py:2218: FutureWarning: The `pad_to_max_length` argument is deprecated and will be removed in a future version, use `padding=True` or `padding='longest'` to pad to the longest sequence in the batch, or use `padding='max_length'` to pad to a max length. In this case, you can give a specific length with `max_length` (e.g. `max_length=45`) or leave max_length to None to pad to the maximal input size of the model (e.g. 512 for Bert).\n",
            "  FutureWarning,\n",
            "/usr/local/lib/python3.7/dist-packages/transformers/tokenization_utils_base.py:2218: FutureWarning: The `pad_to_max_length` argument is deprecated and will be removed in a future version, use `padding=True` or `padding='longest'` to pad to the longest sequence in the batch, or use `padding='max_length'` to pad to a max length. In this case, you can give a specific length with `max_length` (e.g. `max_length=45`) or leave max_length to None to pad to the maximal input size of the model (e.g. 512 for Bert).\n",
            "  FutureWarning,\n",
            "/usr/local/lib/python3.7/dist-packages/transformers/tokenization_utils_base.py:2218: FutureWarning: The `pad_to_max_length` argument is deprecated and will be removed in a future version, use `padding=True` or `padding='longest'` to pad to the longest sequence in the batch, or use `padding='max_length'` to pad to a max length. In this case, you can give a specific length with `max_length` (e.g. `max_length=45`) or leave max_length to None to pad to the maximal input size of the model (e.g. 512 for Bert).\n",
            "  FutureWarning,\n",
            "/usr/local/lib/python3.7/dist-packages/transformers/tokenization_utils_base.py:2218: FutureWarning: The `pad_to_max_length` argument is deprecated and will be removed in a future version, use `padding=True` or `padding='longest'` to pad to the longest sequence in the batch, or use `padding='max_length'` to pad to a max length. In this case, you can give a specific length with `max_length` (e.g. `max_length=45`) or leave max_length to None to pad to the maximal input size of the model (e.g. 512 for Bert).\n",
            "  FutureWarning,\n"
          ]
        },
        {
          "output_type": "stream",
          "name": "stdout",
          "text": [
            "Val loss 0.8454982733726502 accuracy 0.7013977128335451\n",
            "\n",
            "Epoch 2/10\n",
            "----------\n"
          ]
        },
        {
          "output_type": "stream",
          "name": "stderr",
          "text": [
            "/usr/local/lib/python3.7/dist-packages/transformers/tokenization_utils_base.py:2218: FutureWarning: The `pad_to_max_length` argument is deprecated and will be removed in a future version, use `padding=True` or `padding='longest'` to pad to the longest sequence in the batch, or use `padding='max_length'` to pad to a max length. In this case, you can give a specific length with `max_length` (e.g. `max_length=45`) or leave max_length to None to pad to the maximal input size of the model (e.g. 512 for Bert).\n",
            "  FutureWarning,\n",
            "/usr/local/lib/python3.7/dist-packages/transformers/tokenization_utils_base.py:2218: FutureWarning: The `pad_to_max_length` argument is deprecated and will be removed in a future version, use `padding=True` or `padding='longest'` to pad to the longest sequence in the batch, or use `padding='max_length'` to pad to a max length. In this case, you can give a specific length with `max_length` (e.g. `max_length=45`) or leave max_length to None to pad to the maximal input size of the model (e.g. 512 for Bert).\n",
            "  FutureWarning,\n",
            "/usr/local/lib/python3.7/dist-packages/transformers/tokenization_utils_base.py:2218: FutureWarning: The `pad_to_max_length` argument is deprecated and will be removed in a future version, use `padding=True` or `padding='longest'` to pad to the longest sequence in the batch, or use `padding='max_length'` to pad to a max length. In this case, you can give a specific length with `max_length` (e.g. `max_length=45`) or leave max_length to None to pad to the maximal input size of the model (e.g. 512 for Bert).\n",
            "  FutureWarning,\n",
            "/usr/local/lib/python3.7/dist-packages/transformers/tokenization_utils_base.py:2218: FutureWarning: The `pad_to_max_length` argument is deprecated and will be removed in a future version, use `padding=True` or `padding='longest'` to pad to the longest sequence in the batch, or use `padding='max_length'` to pad to a max length. In this case, you can give a specific length with `max_length` (e.g. `max_length=45`) or leave max_length to None to pad to the maximal input size of the model (e.g. 512 for Bert).\n",
            "  FutureWarning,\n"
          ]
        },
        {
          "output_type": "stream",
          "name": "stdout",
          "text": [
            "Train loss 0.807367323079981 accuracy 0.7394679274574836\n"
          ]
        },
        {
          "output_type": "stream",
          "name": "stderr",
          "text": [
            "/usr/local/lib/python3.7/dist-packages/transformers/tokenization_utils_base.py:2218: FutureWarning: The `pad_to_max_length` argument is deprecated and will be removed in a future version, use `padding=True` or `padding='longest'` to pad to the longest sequence in the batch, or use `padding='max_length'` to pad to a max length. In this case, you can give a specific length with `max_length` (e.g. `max_length=45`) or leave max_length to None to pad to the maximal input size of the model (e.g. 512 for Bert).\n",
            "  FutureWarning,\n",
            "/usr/local/lib/python3.7/dist-packages/transformers/tokenization_utils_base.py:2218: FutureWarning: The `pad_to_max_length` argument is deprecated and will be removed in a future version, use `padding=True` or `padding='longest'` to pad to the longest sequence in the batch, or use `padding='max_length'` to pad to a max length. In this case, you can give a specific length with `max_length` (e.g. `max_length=45`) or leave max_length to None to pad to the maximal input size of the model (e.g. 512 for Bert).\n",
            "  FutureWarning,\n",
            "/usr/local/lib/python3.7/dist-packages/transformers/tokenization_utils_base.py:2218: FutureWarning: The `pad_to_max_length` argument is deprecated and will be removed in a future version, use `padding=True` or `padding='longest'` to pad to the longest sequence in the batch, or use `padding='max_length'` to pad to a max length. In this case, you can give a specific length with `max_length` (e.g. `max_length=45`) or leave max_length to None to pad to the maximal input size of the model (e.g. 512 for Bert).\n",
            "  FutureWarning,\n",
            "/usr/local/lib/python3.7/dist-packages/transformers/tokenization_utils_base.py:2218: FutureWarning: The `pad_to_max_length` argument is deprecated and will be removed in a future version, use `padding=True` or `padding='longest'` to pad to the longest sequence in the batch, or use `padding='max_length'` to pad to a max length. In this case, you can give a specific length with `max_length` (e.g. `max_length=45`) or leave max_length to None to pad to the maximal input size of the model (e.g. 512 for Bert).\n",
            "  FutureWarning,\n"
          ]
        },
        {
          "output_type": "stream",
          "name": "stdout",
          "text": [
            "Val loss 0.8305073058605195 accuracy 0.7229987293519695\n",
            "\n",
            "Epoch 3/10\n",
            "----------\n"
          ]
        },
        {
          "output_type": "stream",
          "name": "stderr",
          "text": [
            "/usr/local/lib/python3.7/dist-packages/transformers/tokenization_utils_base.py:2218: FutureWarning: The `pad_to_max_length` argument is deprecated and will be removed in a future version, use `padding=True` or `padding='longest'` to pad to the longest sequence in the batch, or use `padding='max_length'` to pad to a max length. In this case, you can give a specific length with `max_length` (e.g. `max_length=45`) or leave max_length to None to pad to the maximal input size of the model (e.g. 512 for Bert).\n",
            "  FutureWarning,\n",
            "/usr/local/lib/python3.7/dist-packages/transformers/tokenization_utils_base.py:2218: FutureWarning: The `pad_to_max_length` argument is deprecated and will be removed in a future version, use `padding=True` or `padding='longest'` to pad to the longest sequence in the batch, or use `padding='max_length'` to pad to a max length. In this case, you can give a specific length with `max_length` (e.g. `max_length=45`) or leave max_length to None to pad to the maximal input size of the model (e.g. 512 for Bert).\n",
            "  FutureWarning,\n",
            "/usr/local/lib/python3.7/dist-packages/transformers/tokenization_utils_base.py:2218: FutureWarning: The `pad_to_max_length` argument is deprecated and will be removed in a future version, use `padding=True` or `padding='longest'` to pad to the longest sequence in the batch, or use `padding='max_length'` to pad to a max length. In this case, you can give a specific length with `max_length` (e.g. `max_length=45`) or leave max_length to None to pad to the maximal input size of the model (e.g. 512 for Bert).\n",
            "  FutureWarning,\n",
            "/usr/local/lib/python3.7/dist-packages/transformers/tokenization_utils_base.py:2218: FutureWarning: The `pad_to_max_length` argument is deprecated and will be removed in a future version, use `padding=True` or `padding='longest'` to pad to the longest sequence in the batch, or use `padding='max_length'` to pad to a max length. In this case, you can give a specific length with `max_length` (e.g. `max_length=45`) or leave max_length to None to pad to the maximal input size of the model (e.g. 512 for Bert).\n",
            "  FutureWarning,\n"
          ]
        },
        {
          "output_type": "stream",
          "name": "stdout",
          "text": [
            "Train loss 0.7502370784164283 accuracy 0.7990967468774257\n"
          ]
        },
        {
          "output_type": "stream",
          "name": "stderr",
          "text": [
            "/usr/local/lib/python3.7/dist-packages/transformers/tokenization_utils_base.py:2218: FutureWarning: The `pad_to_max_length` argument is deprecated and will be removed in a future version, use `padding=True` or `padding='longest'` to pad to the longest sequence in the batch, or use `padding='max_length'` to pad to a max length. In this case, you can give a specific length with `max_length` (e.g. `max_length=45`) or leave max_length to None to pad to the maximal input size of the model (e.g. 512 for Bert).\n",
            "  FutureWarning,\n",
            "/usr/local/lib/python3.7/dist-packages/transformers/tokenization_utils_base.py:2218: FutureWarning: The `pad_to_max_length` argument is deprecated and will be removed in a future version, use `padding=True` or `padding='longest'` to pad to the longest sequence in the batch, or use `padding='max_length'` to pad to a max length. In this case, you can give a specific length with `max_length` (e.g. `max_length=45`) or leave max_length to None to pad to the maximal input size of the model (e.g. 512 for Bert).\n",
            "  FutureWarning,\n",
            "/usr/local/lib/python3.7/dist-packages/transformers/tokenization_utils_base.py:2218: FutureWarning: The `pad_to_max_length` argument is deprecated and will be removed in a future version, use `padding=True` or `padding='longest'` to pad to the longest sequence in the batch, or use `padding='max_length'` to pad to a max length. In this case, you can give a specific length with `max_length` (e.g. `max_length=45`) or leave max_length to None to pad to the maximal input size of the model (e.g. 512 for Bert).\n",
            "  FutureWarning,\n",
            "/usr/local/lib/python3.7/dist-packages/transformers/tokenization_utils_base.py:2218: FutureWarning: The `pad_to_max_length` argument is deprecated and will be removed in a future version, use `padding=True` or `padding='longest'` to pad to the longest sequence in the batch, or use `padding='max_length'` to pad to a max length. In this case, you can give a specific length with `max_length` (e.g. `max_length=45`) or leave max_length to None to pad to the maximal input size of the model (e.g. 512 for Bert).\n",
            "  FutureWarning,\n"
          ]
        },
        {
          "output_type": "stream",
          "name": "stdout",
          "text": [
            "Val loss 0.8113295221328736 accuracy 0.7458703939008895\n",
            "\n",
            "Epoch 4/10\n",
            "----------\n"
          ]
        },
        {
          "output_type": "stream",
          "name": "stderr",
          "text": [
            "/usr/local/lib/python3.7/dist-packages/transformers/tokenization_utils_base.py:2218: FutureWarning: The `pad_to_max_length` argument is deprecated and will be removed in a future version, use `padding=True` or `padding='longest'` to pad to the longest sequence in the batch, or use `padding='max_length'` to pad to a max length. In this case, you can give a specific length with `max_length` (e.g. `max_length=45`) or leave max_length to None to pad to the maximal input size of the model (e.g. 512 for Bert).\n",
            "  FutureWarning,\n",
            "/usr/local/lib/python3.7/dist-packages/transformers/tokenization_utils_base.py:2218: FutureWarning: The `pad_to_max_length` argument is deprecated and will be removed in a future version, use `padding=True` or `padding='longest'` to pad to the longest sequence in the batch, or use `padding='max_length'` to pad to a max length. In this case, you can give a specific length with `max_length` (e.g. `max_length=45`) or leave max_length to None to pad to the maximal input size of the model (e.g. 512 for Bert).\n",
            "  FutureWarning,\n",
            "/usr/local/lib/python3.7/dist-packages/transformers/tokenization_utils_base.py:2218: FutureWarning: The `pad_to_max_length` argument is deprecated and will be removed in a future version, use `padding=True` or `padding='longest'` to pad to the longest sequence in the batch, or use `padding='max_length'` to pad to a max length. In this case, you can give a specific length with `max_length` (e.g. `max_length=45`) or leave max_length to None to pad to the maximal input size of the model (e.g. 512 for Bert).\n",
            "  FutureWarning,\n",
            "/usr/local/lib/python3.7/dist-packages/transformers/tokenization_utils_base.py:2218: FutureWarning: The `pad_to_max_length` argument is deprecated and will be removed in a future version, use `padding=True` or `padding='longest'` to pad to the longest sequence in the batch, or use `padding='max_length'` to pad to a max length. In this case, you can give a specific length with `max_length` (e.g. `max_length=45`) or leave max_length to None to pad to the maximal input size of the model (e.g. 512 for Bert).\n",
            "  FutureWarning,\n"
          ]
        },
        {
          "output_type": "stream",
          "name": "stdout",
          "text": [
            "Train loss 0.7212387380562302 accuracy 0.8279585068096817\n"
          ]
        },
        {
          "output_type": "stream",
          "name": "stderr",
          "text": [
            "/usr/local/lib/python3.7/dist-packages/transformers/tokenization_utils_base.py:2218: FutureWarning: The `pad_to_max_length` argument is deprecated and will be removed in a future version, use `padding=True` or `padding='longest'` to pad to the longest sequence in the batch, or use `padding='max_length'` to pad to a max length. In this case, you can give a specific length with `max_length` (e.g. `max_length=45`) or leave max_length to None to pad to the maximal input size of the model (e.g. 512 for Bert).\n",
            "  FutureWarning,\n",
            "/usr/local/lib/python3.7/dist-packages/transformers/tokenization_utils_base.py:2218: FutureWarning: The `pad_to_max_length` argument is deprecated and will be removed in a future version, use `padding=True` or `padding='longest'` to pad to the longest sequence in the batch, or use `padding='max_length'` to pad to a max length. In this case, you can give a specific length with `max_length` (e.g. `max_length=45`) or leave max_length to None to pad to the maximal input size of the model (e.g. 512 for Bert).\n",
            "  FutureWarning,\n",
            "/usr/local/lib/python3.7/dist-packages/transformers/tokenization_utils_base.py:2218: FutureWarning: The `pad_to_max_length` argument is deprecated and will be removed in a future version, use `padding=True` or `padding='longest'` to pad to the longest sequence in the batch, or use `padding='max_length'` to pad to a max length. In this case, you can give a specific length with `max_length` (e.g. `max_length=45`) or leave max_length to None to pad to the maximal input size of the model (e.g. 512 for Bert).\n",
            "  FutureWarning,\n",
            "/usr/local/lib/python3.7/dist-packages/transformers/tokenization_utils_base.py:2218: FutureWarning: The `pad_to_max_length` argument is deprecated and will be removed in a future version, use `padding=True` or `padding='longest'` to pad to the longest sequence in the batch, or use `padding='max_length'` to pad to a max length. In this case, you can give a specific length with `max_length` (e.g. `max_length=45`) or leave max_length to None to pad to the maximal input size of the model (e.g. 512 for Bert).\n",
            "  FutureWarning,\n"
          ]
        },
        {
          "output_type": "stream",
          "name": "stdout",
          "text": [
            "Val loss 0.794977856874466 accuracy 0.7611181702668361\n",
            "\n",
            "Epoch 5/10\n",
            "----------\n"
          ]
        },
        {
          "output_type": "stream",
          "name": "stderr",
          "text": [
            "/usr/local/lib/python3.7/dist-packages/transformers/tokenization_utils_base.py:2218: FutureWarning: The `pad_to_max_length` argument is deprecated and will be removed in a future version, use `padding=True` or `padding='longest'` to pad to the longest sequence in the batch, or use `padding='max_length'` to pad to a max length. In this case, you can give a specific length with `max_length` (e.g. `max_length=45`) or leave max_length to None to pad to the maximal input size of the model (e.g. 512 for Bert).\n",
            "  FutureWarning,\n",
            "/usr/local/lib/python3.7/dist-packages/transformers/tokenization_utils_base.py:2218: FutureWarning: The `pad_to_max_length` argument is deprecated and will be removed in a future version, use `padding=True` or `padding='longest'` to pad to the longest sequence in the batch, or use `padding='max_length'` to pad to a max length. In this case, you can give a specific length with `max_length` (e.g. `max_length=45`) or leave max_length to None to pad to the maximal input size of the model (e.g. 512 for Bert).\n",
            "  FutureWarning,\n",
            "/usr/local/lib/python3.7/dist-packages/transformers/tokenization_utils_base.py:2218: FutureWarning: The `pad_to_max_length` argument is deprecated and will be removed in a future version, use `padding=True` or `padding='longest'` to pad to the longest sequence in the batch, or use `padding='max_length'` to pad to a max length. In this case, you can give a specific length with `max_length` (e.g. `max_length=45`) or leave max_length to None to pad to the maximal input size of the model (e.g. 512 for Bert).\n",
            "  FutureWarning,\n",
            "/usr/local/lib/python3.7/dist-packages/transformers/tokenization_utils_base.py:2218: FutureWarning: The `pad_to_max_length` argument is deprecated and will be removed in a future version, use `padding=True` or `padding='longest'` to pad to the longest sequence in the batch, or use `padding='max_length'` to pad to a max length. In this case, you can give a specific length with `max_length` (e.g. `max_length=45`) or leave max_length to None to pad to the maximal input size of the model (e.g. 512 for Bert).\n",
            "  FutureWarning,\n"
          ]
        },
        {
          "output_type": "stream",
          "name": "stdout",
          "text": [
            "Train loss 0.6995839146943448 accuracy 0.8506104015242397\n"
          ]
        },
        {
          "output_type": "stream",
          "name": "stderr",
          "text": [
            "/usr/local/lib/python3.7/dist-packages/transformers/tokenization_utils_base.py:2218: FutureWarning: The `pad_to_max_length` argument is deprecated and will be removed in a future version, use `padding=True` or `padding='longest'` to pad to the longest sequence in the batch, or use `padding='max_length'` to pad to a max length. In this case, you can give a specific length with `max_length` (e.g. `max_length=45`) or leave max_length to None to pad to the maximal input size of the model (e.g. 512 for Bert).\n",
            "  FutureWarning,\n",
            "/usr/local/lib/python3.7/dist-packages/transformers/tokenization_utils_base.py:2218: FutureWarning: The `pad_to_max_length` argument is deprecated and will be removed in a future version, use `padding=True` or `padding='longest'` to pad to the longest sequence in the batch, or use `padding='max_length'` to pad to a max length. In this case, you can give a specific length with `max_length` (e.g. `max_length=45`) or leave max_length to None to pad to the maximal input size of the model (e.g. 512 for Bert).\n",
            "  FutureWarning,\n",
            "/usr/local/lib/python3.7/dist-packages/transformers/tokenization_utils_base.py:2218: FutureWarning: The `pad_to_max_length` argument is deprecated and will be removed in a future version, use `padding=True` or `padding='longest'` to pad to the longest sequence in the batch, or use `padding='max_length'` to pad to a max length. In this case, you can give a specific length with `max_length` (e.g. `max_length=45`) or leave max_length to None to pad to the maximal input size of the model (e.g. 512 for Bert).\n",
            "  FutureWarning,\n",
            "/usr/local/lib/python3.7/dist-packages/transformers/tokenization_utils_base.py:2218: FutureWarning: The `pad_to_max_length` argument is deprecated and will be removed in a future version, use `padding=True` or `padding='longest'` to pad to the longest sequence in the batch, or use `padding='max_length'` to pad to a max length. In this case, you can give a specific length with `max_length` (e.g. `max_length=45`) or leave max_length to None to pad to the maximal input size of the model (e.g. 512 for Bert).\n",
            "  FutureWarning,\n"
          ]
        },
        {
          "output_type": "stream",
          "name": "stdout",
          "text": [
            "Val loss 0.7805475890636444 accuracy 0.7763659466327828\n",
            "\n",
            "Epoch 6/10\n",
            "----------\n"
          ]
        },
        {
          "output_type": "stream",
          "name": "stderr",
          "text": [
            "/usr/local/lib/python3.7/dist-packages/transformers/tokenization_utils_base.py:2218: FutureWarning: The `pad_to_max_length` argument is deprecated and will be removed in a future version, use `padding=True` or `padding='longest'` to pad to the longest sequence in the batch, or use `padding='max_length'` to pad to a max length. In this case, you can give a specific length with `max_length` (e.g. `max_length=45`) or leave max_length to None to pad to the maximal input size of the model (e.g. 512 for Bert).\n",
            "  FutureWarning,\n",
            "/usr/local/lib/python3.7/dist-packages/transformers/tokenization_utils_base.py:2218: FutureWarning: The `pad_to_max_length` argument is deprecated and will be removed in a future version, use `padding=True` or `padding='longest'` to pad to the longest sequence in the batch, or use `padding='max_length'` to pad to a max length. In this case, you can give a specific length with `max_length` (e.g. `max_length=45`) or leave max_length to None to pad to the maximal input size of the model (e.g. 512 for Bert).\n",
            "  FutureWarning,\n",
            "/usr/local/lib/python3.7/dist-packages/transformers/tokenization_utils_base.py:2218: FutureWarning: The `pad_to_max_length` argument is deprecated and will be removed in a future version, use `padding=True` or `padding='longest'` to pad to the longest sequence in the batch, or use `padding='max_length'` to pad to a max length. In this case, you can give a specific length with `max_length` (e.g. `max_length=45`) or leave max_length to None to pad to the maximal input size of the model (e.g. 512 for Bert).\n",
            "  FutureWarning,\n",
            "/usr/local/lib/python3.7/dist-packages/transformers/tokenization_utils_base.py:2218: FutureWarning: The `pad_to_max_length` argument is deprecated and will be removed in a future version, use `padding=True` or `padding='longest'` to pad to the longest sequence in the batch, or use `padding='max_length'` to pad to a max length. In this case, you can give a specific length with `max_length` (e.g. `max_length=45`) or leave max_length to None to pad to the maximal input size of the model (e.g. 512 for Bert).\n",
            "  FutureWarning,\n"
          ]
        },
        {
          "output_type": "stream",
          "name": "stdout",
          "text": [
            "Train loss 0.6906472401479028 accuracy 0.8597134994001835\n"
          ]
        },
        {
          "output_type": "stream",
          "name": "stderr",
          "text": [
            "/usr/local/lib/python3.7/dist-packages/transformers/tokenization_utils_base.py:2218: FutureWarning: The `pad_to_max_length` argument is deprecated and will be removed in a future version, use `padding=True` or `padding='longest'` to pad to the longest sequence in the batch, or use `padding='max_length'` to pad to a max length. In this case, you can give a specific length with `max_length` (e.g. `max_length=45`) or leave max_length to None to pad to the maximal input size of the model (e.g. 512 for Bert).\n",
            "  FutureWarning,\n",
            "/usr/local/lib/python3.7/dist-packages/transformers/tokenization_utils_base.py:2218: FutureWarning: The `pad_to_max_length` argument is deprecated and will be removed in a future version, use `padding=True` or `padding='longest'` to pad to the longest sequence in the batch, or use `padding='max_length'` to pad to a max length. In this case, you can give a specific length with `max_length` (e.g. `max_length=45`) or leave max_length to None to pad to the maximal input size of the model (e.g. 512 for Bert).\n",
            "  FutureWarning,\n",
            "/usr/local/lib/python3.7/dist-packages/transformers/tokenization_utils_base.py:2218: FutureWarning: The `pad_to_max_length` argument is deprecated and will be removed in a future version, use `padding=True` or `padding='longest'` to pad to the longest sequence in the batch, or use `padding='max_length'` to pad to a max length. In this case, you can give a specific length with `max_length` (e.g. `max_length=45`) or leave max_length to None to pad to the maximal input size of the model (e.g. 512 for Bert).\n",
            "  FutureWarning,\n",
            "/usr/local/lib/python3.7/dist-packages/transformers/tokenization_utils_base.py:2218: FutureWarning: The `pad_to_max_length` argument is deprecated and will be removed in a future version, use `padding=True` or `padding='longest'` to pad to the longest sequence in the batch, or use `padding='max_length'` to pad to a max length. In this case, you can give a specific length with `max_length` (e.g. `max_length=45`) or leave max_length to None to pad to the maximal input size of the model (e.g. 512 for Bert).\n",
            "  FutureWarning,\n"
          ]
        },
        {
          "output_type": "stream",
          "name": "stdout",
          "text": [
            "Val loss 0.7757340657711029 accuracy 0.783989834815756\n",
            "\n",
            "Epoch 7/10\n",
            "----------\n"
          ]
        },
        {
          "output_type": "stream",
          "name": "stderr",
          "text": [
            "/usr/local/lib/python3.7/dist-packages/transformers/tokenization_utils_base.py:2218: FutureWarning: The `pad_to_max_length` argument is deprecated and will be removed in a future version, use `padding=True` or `padding='longest'` to pad to the longest sequence in the batch, or use `padding='max_length'` to pad to a max length. In this case, you can give a specific length with `max_length` (e.g. `max_length=45`) or leave max_length to None to pad to the maximal input size of the model (e.g. 512 for Bert).\n",
            "  FutureWarning,\n",
            "/usr/local/lib/python3.7/dist-packages/transformers/tokenization_utils_base.py:2218: FutureWarning: The `pad_to_max_length` argument is deprecated and will be removed in a future version, use `padding=True` or `padding='longest'` to pad to the longest sequence in the batch, or use `padding='max_length'` to pad to a max length. In this case, you can give a specific length with `max_length` (e.g. `max_length=45`) or leave max_length to None to pad to the maximal input size of the model (e.g. 512 for Bert).\n",
            "  FutureWarning,\n",
            "/usr/local/lib/python3.7/dist-packages/transformers/tokenization_utils_base.py:2218: FutureWarning: The `pad_to_max_length` argument is deprecated and will be removed in a future version, use `padding=True` or `padding='longest'` to pad to the longest sequence in the batch, or use `padding='max_length'` to pad to a max length. In this case, you can give a specific length with `max_length` (e.g. `max_length=45`) or leave max_length to None to pad to the maximal input size of the model (e.g. 512 for Bert).\n",
            "  FutureWarning,\n",
            "/usr/local/lib/python3.7/dist-packages/transformers/tokenization_utils_base.py:2218: FutureWarning: The `pad_to_max_length` argument is deprecated and will be removed in a future version, use `padding=True` or `padding='longest'` to pad to the longest sequence in the batch, or use `padding='max_length'` to pad to a max length. In this case, you can give a specific length with `max_length` (e.g. `max_length=45`) or leave max_length to None to pad to the maximal input size of the model (e.g. 512 for Bert).\n",
            "  FutureWarning,\n"
          ]
        },
        {
          "output_type": "stream",
          "name": "stdout",
          "text": [
            "Train loss 0.6825358710897157 accuracy 0.8683931973749206\n"
          ]
        },
        {
          "output_type": "stream",
          "name": "stderr",
          "text": [
            "/usr/local/lib/python3.7/dist-packages/transformers/tokenization_utils_base.py:2218: FutureWarning: The `pad_to_max_length` argument is deprecated and will be removed in a future version, use `padding=True` or `padding='longest'` to pad to the longest sequence in the batch, or use `padding='max_length'` to pad to a max length. In this case, you can give a specific length with `max_length` (e.g. `max_length=45`) or leave max_length to None to pad to the maximal input size of the model (e.g. 512 for Bert).\n",
            "  FutureWarning,\n",
            "/usr/local/lib/python3.7/dist-packages/transformers/tokenization_utils_base.py:2218: FutureWarning: The `pad_to_max_length` argument is deprecated and will be removed in a future version, use `padding=True` or `padding='longest'` to pad to the longest sequence in the batch, or use `padding='max_length'` to pad to a max length. In this case, you can give a specific length with `max_length` (e.g. `max_length=45`) or leave max_length to None to pad to the maximal input size of the model (e.g. 512 for Bert).\n",
            "  FutureWarning,\n",
            "/usr/local/lib/python3.7/dist-packages/transformers/tokenization_utils_base.py:2218: FutureWarning: The `pad_to_max_length` argument is deprecated and will be removed in a future version, use `padding=True` or `padding='longest'` to pad to the longest sequence in the batch, or use `padding='max_length'` to pad to a max length. In this case, you can give a specific length with `max_length` (e.g. `max_length=45`) or leave max_length to None to pad to the maximal input size of the model (e.g. 512 for Bert).\n",
            "  FutureWarning,\n",
            "/usr/local/lib/python3.7/dist-packages/transformers/tokenization_utils_base.py:2218: FutureWarning: The `pad_to_max_length` argument is deprecated and will be removed in a future version, use `padding=True` or `padding='longest'` to pad to the longest sequence in the batch, or use `padding='max_length'` to pad to a max length. In this case, you can give a specific length with `max_length` (e.g. `max_length=45`) or leave max_length to None to pad to the maximal input size of the model (e.g. 512 for Bert).\n",
            "  FutureWarning,\n"
          ]
        },
        {
          "output_type": "stream",
          "name": "stdout",
          "text": [
            "Val loss 0.7671239757537842 accuracy 0.7916137229987293\n",
            "\n",
            "Epoch 8/10\n",
            "----------\n"
          ]
        },
        {
          "output_type": "stream",
          "name": "stderr",
          "text": [
            "/usr/local/lib/python3.7/dist-packages/transformers/tokenization_utils_base.py:2218: FutureWarning: The `pad_to_max_length` argument is deprecated and will be removed in a future version, use `padding=True` or `padding='longest'` to pad to the longest sequence in the batch, or use `padding='max_length'` to pad to a max length. In this case, you can give a specific length with `max_length` (e.g. `max_length=45`) or leave max_length to None to pad to the maximal input size of the model (e.g. 512 for Bert).\n",
            "  FutureWarning,\n",
            "/usr/local/lib/python3.7/dist-packages/transformers/tokenization_utils_base.py:2218: FutureWarning: The `pad_to_max_length` argument is deprecated and will be removed in a future version, use `padding=True` or `padding='longest'` to pad to the longest sequence in the batch, or use `padding='max_length'` to pad to a max length. In this case, you can give a specific length with `max_length` (e.g. `max_length=45`) or leave max_length to None to pad to the maximal input size of the model (e.g. 512 for Bert).\n",
            "  FutureWarning,\n",
            "/usr/local/lib/python3.7/dist-packages/transformers/tokenization_utils_base.py:2218: FutureWarning: The `pad_to_max_length` argument is deprecated and will be removed in a future version, use `padding=True` or `padding='longest'` to pad to the longest sequence in the batch, or use `padding='max_length'` to pad to a max length. In this case, you can give a specific length with `max_length` (e.g. `max_length=45`) or leave max_length to None to pad to the maximal input size of the model (e.g. 512 for Bert).\n",
            "  FutureWarning,\n",
            "/usr/local/lib/python3.7/dist-packages/transformers/tokenization_utils_base.py:2218: FutureWarning: The `pad_to_max_length` argument is deprecated and will be removed in a future version, use `padding=True` or `padding='longest'` to pad to the longest sequence in the batch, or use `padding='max_length'` to pad to a max length. In this case, you can give a specific length with `max_length` (e.g. `max_length=45`) or leave max_length to None to pad to the maximal input size of the model (e.g. 512 for Bert).\n",
            "  FutureWarning,\n"
          ]
        },
        {
          "output_type": "stream",
          "name": "stdout",
          "text": [
            "Train loss 0.6757942480508146 accuracy 0.8754498623950322\n"
          ]
        },
        {
          "output_type": "stream",
          "name": "stderr",
          "text": [
            "/usr/local/lib/python3.7/dist-packages/transformers/tokenization_utils_base.py:2218: FutureWarning: The `pad_to_max_length` argument is deprecated and will be removed in a future version, use `padding=True` or `padding='longest'` to pad to the longest sequence in the batch, or use `padding='max_length'` to pad to a max length. In this case, you can give a specific length with `max_length` (e.g. `max_length=45`) or leave max_length to None to pad to the maximal input size of the model (e.g. 512 for Bert).\n",
            "  FutureWarning,\n",
            "/usr/local/lib/python3.7/dist-packages/transformers/tokenization_utils_base.py:2218: FutureWarning: The `pad_to_max_length` argument is deprecated and will be removed in a future version, use `padding=True` or `padding='longest'` to pad to the longest sequence in the batch, or use `padding='max_length'` to pad to a max length. In this case, you can give a specific length with `max_length` (e.g. `max_length=45`) or leave max_length to None to pad to the maximal input size of the model (e.g. 512 for Bert).\n",
            "  FutureWarning,\n",
            "/usr/local/lib/python3.7/dist-packages/transformers/tokenization_utils_base.py:2218: FutureWarning: The `pad_to_max_length` argument is deprecated and will be removed in a future version, use `padding=True` or `padding='longest'` to pad to the longest sequence in the batch, or use `padding='max_length'` to pad to a max length. In this case, you can give a specific length with `max_length` (e.g. `max_length=45`) or leave max_length to None to pad to the maximal input size of the model (e.g. 512 for Bert).\n",
            "  FutureWarning,\n",
            "/usr/local/lib/python3.7/dist-packages/transformers/tokenization_utils_base.py:2218: FutureWarning: The `pad_to_max_length` argument is deprecated and will be removed in a future version, use `padding=True` or `padding='longest'` to pad to the longest sequence in the batch, or use `padding='max_length'` to pad to a max length. In this case, you can give a specific length with `max_length` (e.g. `max_length=45`) or leave max_length to None to pad to the maximal input size of the model (e.g. 512 for Bert).\n",
            "  FutureWarning,\n"
          ]
        },
        {
          "output_type": "stream",
          "name": "stdout",
          "text": [
            "Val loss 0.7631946611404419 accuracy 0.7941550190597205\n",
            "\n",
            "Epoch 9/10\n",
            "----------\n"
          ]
        },
        {
          "output_type": "stream",
          "name": "stderr",
          "text": [
            "/usr/local/lib/python3.7/dist-packages/transformers/tokenization_utils_base.py:2218: FutureWarning: The `pad_to_max_length` argument is deprecated and will be removed in a future version, use `padding=True` or `padding='longest'` to pad to the longest sequence in the batch, or use `padding='max_length'` to pad to a max length. In this case, you can give a specific length with `max_length` (e.g. `max_length=45`) or leave max_length to None to pad to the maximal input size of the model (e.g. 512 for Bert).\n",
            "  FutureWarning,\n",
            "/usr/local/lib/python3.7/dist-packages/transformers/tokenization_utils_base.py:2218: FutureWarning: The `pad_to_max_length` argument is deprecated and will be removed in a future version, use `padding=True` or `padding='longest'` to pad to the longest sequence in the batch, or use `padding='max_length'` to pad to a max length. In this case, you can give a specific length with `max_length` (e.g. `max_length=45`) or leave max_length to None to pad to the maximal input size of the model (e.g. 512 for Bert).\n",
            "  FutureWarning,\n",
            "/usr/local/lib/python3.7/dist-packages/transformers/tokenization_utils_base.py:2218: FutureWarning: The `pad_to_max_length` argument is deprecated and will be removed in a future version, use `padding=True` or `padding='longest'` to pad to the longest sequence in the batch, or use `padding='max_length'` to pad to a max length. In this case, you can give a specific length with `max_length` (e.g. `max_length=45`) or leave max_length to None to pad to the maximal input size of the model (e.g. 512 for Bert).\n",
            "  FutureWarning,\n",
            "/usr/local/lib/python3.7/dist-packages/transformers/tokenization_utils_base.py:2218: FutureWarning: The `pad_to_max_length` argument is deprecated and will be removed in a future version, use `padding=True` or `padding='longest'` to pad to the longest sequence in the batch, or use `padding='max_length'` to pad to a max length. In this case, you can give a specific length with `max_length` (e.g. `max_length=45`) or leave max_length to None to pad to the maximal input size of the model (e.g. 512 for Bert).\n",
            "  FutureWarning,\n"
          ]
        },
        {
          "output_type": "stream",
          "name": "stdout",
          "text": [
            "Train loss 0.671439843441509 accuracy 0.8795427281066968\n"
          ]
        },
        {
          "output_type": "stream",
          "name": "stderr",
          "text": [
            "/usr/local/lib/python3.7/dist-packages/transformers/tokenization_utils_base.py:2218: FutureWarning: The `pad_to_max_length` argument is deprecated and will be removed in a future version, use `padding=True` or `padding='longest'` to pad to the longest sequence in the batch, or use `padding='max_length'` to pad to a max length. In this case, you can give a specific length with `max_length` (e.g. `max_length=45`) or leave max_length to None to pad to the maximal input size of the model (e.g. 512 for Bert).\n",
            "  FutureWarning,\n",
            "/usr/local/lib/python3.7/dist-packages/transformers/tokenization_utils_base.py:2218: FutureWarning: The `pad_to_max_length` argument is deprecated and will be removed in a future version, use `padding=True` or `padding='longest'` to pad to the longest sequence in the batch, or use `padding='max_length'` to pad to a max length. In this case, you can give a specific length with `max_length` (e.g. `max_length=45`) or leave max_length to None to pad to the maximal input size of the model (e.g. 512 for Bert).\n",
            "  FutureWarning,\n",
            "/usr/local/lib/python3.7/dist-packages/transformers/tokenization_utils_base.py:2218: FutureWarning: The `pad_to_max_length` argument is deprecated and will be removed in a future version, use `padding=True` or `padding='longest'` to pad to the longest sequence in the batch, or use `padding='max_length'` to pad to a max length. In this case, you can give a specific length with `max_length` (e.g. `max_length=45`) or leave max_length to None to pad to the maximal input size of the model (e.g. 512 for Bert).\n",
            "  FutureWarning,\n",
            "/usr/local/lib/python3.7/dist-packages/transformers/tokenization_utils_base.py:2218: FutureWarning: The `pad_to_max_length` argument is deprecated and will be removed in a future version, use `padding=True` or `padding='longest'` to pad to the longest sequence in the batch, or use `padding='max_length'` to pad to a max length. In this case, you can give a specific length with `max_length` (e.g. `max_length=45`) or leave max_length to None to pad to the maximal input size of the model (e.g. 512 for Bert).\n",
            "  FutureWarning,\n"
          ]
        },
        {
          "output_type": "stream",
          "name": "stdout",
          "text": [
            "Val loss 0.7611699640750885 accuracy 0.795425667090216\n",
            "\n",
            "Epoch 10/10\n",
            "----------\n"
          ]
        },
        {
          "output_type": "stream",
          "name": "stderr",
          "text": [
            "/usr/local/lib/python3.7/dist-packages/transformers/tokenization_utils_base.py:2218: FutureWarning: The `pad_to_max_length` argument is deprecated and will be removed in a future version, use `padding=True` or `padding='longest'` to pad to the longest sequence in the batch, or use `padding='max_length'` to pad to a max length. In this case, you can give a specific length with `max_length` (e.g. `max_length=45`) or leave max_length to None to pad to the maximal input size of the model (e.g. 512 for Bert).\n",
            "  FutureWarning,\n",
            "/usr/local/lib/python3.7/dist-packages/transformers/tokenization_utils_base.py:2218: FutureWarning: The `pad_to_max_length` argument is deprecated and will be removed in a future version, use `padding=True` or `padding='longest'` to pad to the longest sequence in the batch, or use `padding='max_length'` to pad to a max length. In this case, you can give a specific length with `max_length` (e.g. `max_length=45`) or leave max_length to None to pad to the maximal input size of the model (e.g. 512 for Bert).\n",
            "  FutureWarning,\n",
            "/usr/local/lib/python3.7/dist-packages/transformers/tokenization_utils_base.py:2218: FutureWarning: The `pad_to_max_length` argument is deprecated and will be removed in a future version, use `padding=True` or `padding='longest'` to pad to the longest sequence in the batch, or use `padding='max_length'` to pad to a max length. In this case, you can give a specific length with `max_length` (e.g. `max_length=45`) or leave max_length to None to pad to the maximal input size of the model (e.g. 512 for Bert).\n",
            "  FutureWarning,\n",
            "/usr/local/lib/python3.7/dist-packages/transformers/tokenization_utils_base.py:2218: FutureWarning: The `pad_to_max_length` argument is deprecated and will be removed in a future version, use `padding=True` or `padding='longest'` to pad to the longest sequence in the batch, or use `padding='max_length'` to pad to a max length. In this case, you can give a specific length with `max_length` (e.g. `max_length=45`) or leave max_length to None to pad to the maximal input size of the model (e.g. 512 for Bert).\n",
            "  FutureWarning,\n"
          ]
        },
        {
          "output_type": "stream",
          "name": "stdout",
          "text": [
            "Train loss 0.6677201065333649 accuracy 0.8834238938677581\n"
          ]
        },
        {
          "output_type": "stream",
          "name": "stderr",
          "text": [
            "/usr/local/lib/python3.7/dist-packages/transformers/tokenization_utils_base.py:2218: FutureWarning: The `pad_to_max_length` argument is deprecated and will be removed in a future version, use `padding=True` or `padding='longest'` to pad to the longest sequence in the batch, or use `padding='max_length'` to pad to a max length. In this case, you can give a specific length with `max_length` (e.g. `max_length=45`) or leave max_length to None to pad to the maximal input size of the model (e.g. 512 for Bert).\n",
            "  FutureWarning,\n",
            "/usr/local/lib/python3.7/dist-packages/transformers/tokenization_utils_base.py:2218: FutureWarning: The `pad_to_max_length` argument is deprecated and will be removed in a future version, use `padding=True` or `padding='longest'` to pad to the longest sequence in the batch, or use `padding='max_length'` to pad to a max length. In this case, you can give a specific length with `max_length` (e.g. `max_length=45`) or leave max_length to None to pad to the maximal input size of the model (e.g. 512 for Bert).\n",
            "  FutureWarning,\n",
            "/usr/local/lib/python3.7/dist-packages/transformers/tokenization_utils_base.py:2218: FutureWarning: The `pad_to_max_length` argument is deprecated and will be removed in a future version, use `padding=True` or `padding='longest'` to pad to the longest sequence in the batch, or use `padding='max_length'` to pad to a max length. In this case, you can give a specific length with `max_length` (e.g. `max_length=45`) or leave max_length to None to pad to the maximal input size of the model (e.g. 512 for Bert).\n",
            "  FutureWarning,\n",
            "/usr/local/lib/python3.7/dist-packages/transformers/tokenization_utils_base.py:2218: FutureWarning: The `pad_to_max_length` argument is deprecated and will be removed in a future version, use `padding=True` or `padding='longest'` to pad to the longest sequence in the batch, or use `padding='max_length'` to pad to a max length. In this case, you can give a specific length with `max_length` (e.g. `max_length=45`) or leave max_length to None to pad to the maximal input size of the model (e.g. 512 for Bert).\n",
            "  FutureWarning,\n"
          ]
        },
        {
          "output_type": "stream",
          "name": "stdout",
          "text": [
            "Val loss 0.7590884506702423 accuracy 0.7992376111817027\n",
            "\n"
          ]
        }
      ]
    },
    {
      "cell_type": "markdown",
      "metadata": {
        "id": "suUMVLeFr9K2"
      },
      "source": [
        "# **Đánh giá mô hình**"
      ]
    },
    {
      "cell_type": "code",
      "metadata": {
        "id": "Up55vgATwZXA",
        "colab": {
          "base_uri": "https://localhost:8080/",
          "height": 523
        },
        "outputId": "63b859f9-b212-4242-97c0-12ea943ad21b"
      },
      "source": [
        "plt.plot(history['train_acc'], label='train accuracy')\n",
        "plt.plot(history['val_acc'], label='validation accuracy')\n",
        "plt.title('Training history')\n",
        "plt.ylabel('Accuracy')\n",
        "plt.xlabel('Epoch')\n",
        "plt.legend()\n",
        "plt.ylim([0, 1]);\n"
      ],
      "execution_count": 39,
      "outputs": [
        {
          "output_type": "display_data",
          "data": {
            "image/png": "[encoded data removed]",
            "text/plain": [
              "<Figure size 864x576 with 1 Axes>"
            ]
          },
          "metadata": {
            "image/png": {
              "width": 732,
              "height": 506
            }
          }
        }
      ]
    },
    {
      "cell_type": "code",
      "metadata": {
        "id": "_tl9AI-brse_",
        "colab": {
          "base_uri": "https://localhost:8080/"
        },
        "outputId": "c341fd69-ae7b-4392-f87d-7df7513d1556"
      },
      "source": [
        "test_acc, _ = eval_model(\n",
        "  model,\n",
        "  test_data_loader,\n",
        "  loss_fn,\n",
        "  device,\n",
        "  len(df_test)\n",
        ")\n",
        "test_acc.item()"
      ],
      "execution_count": 40,
      "outputs": [
        {
          "output_type": "stream",
          "name": "stderr",
          "text": [
            "/usr/local/lib/python3.7/dist-packages/torch/utils/data/dataloader.py:481: UserWarning: This DataLoader will create 4 worker processes in total. Our suggested max number of worker in current system is 2, which is smaller than what this DataLoader is going to create. Please be aware that excessive worker creation might get DataLoader running slow or even freeze, lower the worker number to avoid potential slowness/freeze if necessary.\n",
            "  cpuset_checked))\n",
            "/usr/local/lib/python3.7/dist-packages/transformers/tokenization_utils_base.py:2218: FutureWarning: The `pad_to_max_length` argument is deprecated and will be removed in a future version, use `padding=True` or `padding='longest'` to pad to the longest sequence in the batch, or use `padding='max_length'` to pad to a max length. In this case, you can give a specific length with `max_length` (e.g. `max_length=45`) or leave max_length to None to pad to the maximal input size of the model (e.g. 512 for Bert).\n",
            "  FutureWarning,\n",
            "/usr/local/lib/python3.7/dist-packages/transformers/tokenization_utils_base.py:2218: FutureWarning: The `pad_to_max_length` argument is deprecated and will be removed in a future version, use `padding=True` or `padding='longest'` to pad to the longest sequence in the batch, or use `padding='max_length'` to pad to a max length. In this case, you can give a specific length with `max_length` (e.g. `max_length=45`) or leave max_length to None to pad to the maximal input size of the model (e.g. 512 for Bert).\n",
            "  FutureWarning,\n",
            "/usr/local/lib/python3.7/dist-packages/transformers/tokenization_utils_base.py:2218: FutureWarning: The `pad_to_max_length` argument is deprecated and will be removed in a future version, use `padding=True` or `padding='longest'` to pad to the longest sequence in the batch, or use `padding='max_length'` to pad to a max length. In this case, you can give a specific length with `max_length` (e.g. `max_length=45`) or leave max_length to None to pad to the maximal input size of the model (e.g. 512 for Bert).\n",
            "  FutureWarning,\n",
            "/usr/local/lib/python3.7/dist-packages/transformers/tokenization_utils_base.py:2218: FutureWarning: The `pad_to_max_length` argument is deprecated and will be removed in a future version, use `padding=True` or `padding='longest'` to pad to the longest sequence in the batch, or use `padding='max_length'` to pad to a max length. In this case, you can give a specific length with `max_length` (e.g. `max_length=45`) or leave max_length to None to pad to the maximal input size of the model (e.g. 512 for Bert).\n",
            "  FutureWarning,\n"
          ]
        },
        {
          "output_type": "execute_result",
          "data": {
            "text/plain": [
              "0.7956852791878172"
            ]
          },
          "metadata": {},
          "execution_count": 40
        }
      ]
    },
    {
      "cell_type": "code",
      "metadata": {
        "id": "N2vH4kxIsfUn"
      },
      "source": [
        "def get_predictions(model, data_loader):\n",
        "  model = model.eval()\n",
        "  \n",
        "  review_texts = []\n",
        "  predictions = []\n",
        "  prediction_probs = []\n",
        "  real_values = []\n",
        "\n",
        "  with torch.no_grad():\n",
        "    for d in data_loader:\n",
        "      texts = d[\"review_text\"]\n",
        "      input_ids = d[\"input_ids\"].to(device)\n",
        "      attention_mask = d[\"attention_mask\"].to(device)\n",
        "      targets = d[\"targets\"].to(device)\n",
        "      \n",
        "      outputs = model(\n",
        "        input_ids=input_ids,\n",
        "        attention_mask=attention_mask\n",
        "      )\n",
        "      \n",
        "      _, preds = torch.max(outputs, dim=1)\n",
        "      review_texts.extend(texts)\n",
        "      predictions.extend(preds)\n",
        "      prediction_probs.extend(outputs)\n",
        "      real_values.extend(targets)\n",
        "  \n",
        "  predictions = torch.stack(predictions).cpu()\n",
        "  prediction_probs = torch.stack(prediction_probs).cpu()\n",
        "  real_values = torch.stack(real_values).cpu()\n",
        "  \n",
        "  return review_texts, predictions, prediction_probs, real_values"
      ],
      "execution_count": 41,
      "outputs": []
    },
    {
      "cell_type": "code",
      "metadata": {
        "id": "51fY5ZCLspPY",
        "colab": {
          "base_uri": "https://localhost:8080/"
        },
        "outputId": "bf5c01a8-a7ea-47b8-a710-92eb4b9e32c9"
      },
      "source": [
        "y_review_texts, y_pred, y_pred_probs, y_test = get_predictions(\n",
        "  model,\n",
        "  test_data_loader\n",
        ")"
      ],
      "execution_count": 42,
      "outputs": [
        {
          "output_type": "stream",
          "name": "stderr",
          "text": [
            "/usr/local/lib/python3.7/dist-packages/torch/utils/data/dataloader.py:481: UserWarning: This DataLoader will create 4 worker processes in total. Our suggested max number of worker in current system is 2, which is smaller than what this DataLoader is going to create. Please be aware that excessive worker creation might get DataLoader running slow or even freeze, lower the worker number to avoid potential slowness/freeze if necessary.\n",
            "  cpuset_checked))\n",
            "/usr/local/lib/python3.7/dist-packages/transformers/tokenization_utils_base.py:2218: FutureWarning: The `pad_to_max_length` argument is deprecated and will be removed in a future version, use `padding=True` or `padding='longest'` to pad to the longest sequence in the batch, or use `padding='max_length'` to pad to a max length. In this case, you can give a specific length with `max_length` (e.g. `max_length=45`) or leave max_length to None to pad to the maximal input size of the model (e.g. 512 for Bert).\n",
            "  FutureWarning,\n",
            "/usr/local/lib/python3.7/dist-packages/transformers/tokenization_utils_base.py:2218: FutureWarning: The `pad_to_max_length` argument is deprecated and will be removed in a future version, use `padding=True` or `padding='longest'` to pad to the longest sequence in the batch, or use `padding='max_length'` to pad to a max length. In this case, you can give a specific length with `max_length` (e.g. `max_length=45`) or leave max_length to None to pad to the maximal input size of the model (e.g. 512 for Bert).\n",
            "  FutureWarning,\n",
            "/usr/local/lib/python3.7/dist-packages/transformers/tokenization_utils_base.py:2218: FutureWarning: The `pad_to_max_length` argument is deprecated and will be removed in a future version, use `padding=True` or `padding='longest'` to pad to the longest sequence in the batch, or use `padding='max_length'` to pad to a max length. In this case, you can give a specific length with `max_length` (e.g. `max_length=45`) or leave max_length to None to pad to the maximal input size of the model (e.g. 512 for Bert).\n",
            "  FutureWarning,\n",
            "/usr/local/lib/python3.7/dist-packages/transformers/tokenization_utils_base.py:2218: FutureWarning: The `pad_to_max_length` argument is deprecated and will be removed in a future version, use `padding=True` or `padding='longest'` to pad to the longest sequence in the batch, or use `padding='max_length'` to pad to a max length. In this case, you can give a specific length with `max_length` (e.g. `max_length=45`) or leave max_length to None to pad to the maximal input size of the model (e.g. 512 for Bert).\n",
            "  FutureWarning,\n"
          ]
        }
      ]
    },
    {
      "cell_type": "code",
      "metadata": {
        "id": "u9ZPiOEfsrbV",
        "colab": {
          "base_uri": "https://localhost:8080/"
        },
        "outputId": "36b698cd-72d6-432f-87c3-e480cd02ccc6"
      },
      "source": [
        "print(classification_report(y_test, y_pred, target_names=class_names))"
      ],
      "execution_count": 43,
      "outputs": [
        {
          "output_type": "stream",
          "name": "stdout",
          "text": [
            "              precision    recall  f1-score   support\n",
            "\n",
            "    negative       0.81      0.77      0.79       245\n",
            "     neutral       0.71      0.73      0.72       254\n",
            "    positive       0.85      0.88      0.87       289\n",
            "\n",
            "    accuracy                           0.80       788\n",
            "   macro avg       0.79      0.79      0.79       788\n",
            "weighted avg       0.80      0.80      0.80       788\n",
            "\n"
          ]
        }
      ]
    },
    {
      "cell_type": "code",
      "metadata": {
        "id": "3nf33-7ks3uo",
        "colab": {
          "base_uri": "https://localhost:8080/",
          "height": 533
        },
        "outputId": "c3725555-b681-4db2-ad05-388a02d51aca"
      },
      "source": [
        "def show_confusion_matrix(confusion_matrix):\n",
        "  hmap = sns.heatmap(confusion_matrix, annot=True, fmt=\"d\", cmap=\"Blues\")\n",
        "  hmap.yaxis.set_ticklabels(hmap.yaxis.get_ticklabels(), rotation=0, ha='right')\n",
        "  hmap.xaxis.set_ticklabels(hmap.xaxis.get_ticklabels(), rotation=30, ha='right')\n",
        "  plt.ylabel('True sentiment')\n",
        "  plt.xlabel('Predicted sentiment');\n",
        "cm = confusion_matrix(y_test, y_pred)\n",
        "df_cm = pd.DataFrame(cm, index=class_names, columns=class_names)\n",
        "show_confusion_matrix(df_cm)"
      ],
      "execution_count": 44,
      "outputs": [
        {
          "output_type": "display_data",
          "data": {
            "image/png": "[encoded data removed]",
            "text/plain": [
              "<Figure size 864x576 with 2 Axes>"
            ]
          },
          "metadata": {
            "image/png": {
              "width": 725,
              "height": 516
            }
          }
        }
      ]
    },
    {
      "cell_type": "code",
      "metadata": {
        "id": "9KspdVfRtGzM",
        "colab": {
          "base_uri": "https://localhost:8080/"
        },
        "outputId": "7e736554-b11c-40c3-baf8-96c1f65488a3"
      },
      "source": [
        "idx = 2\n",
        "review_text = y_review_texts[idx]\n",
        "true_sentiment = y_test[idx]\n",
        "pred_df = pd.DataFrame({\n",
        "  'class_names': class_names,\n",
        "  'values': y_pred_probs[idx]\n",
        "})\n",
        "\n",
        "print(\"\\n\".join(wrap(review_text)))\n",
        "print()\n",
        "print(f'True sentiment: {class_names[true_sentiment]}')"
      ],
      "execution_count": 45,
      "outputs": [
        {
          "output_type": "stream",
          "name": "stdout",
          "text": [
            "I used to use Habitica, and I must say this is a great step up. I'd\n",
            "like to see more social features, such as sharing tasks - only one\n",
            "person has to perform said task for it to be checked off, but only\n",
            "giving that person the experience and gold. Otherwise, the price for\n",
            "subscription is too steep, thus resulting in a sub-perfect score. I\n",
            "could easily justify $0.99/month or eternal subscription for $15. If\n",
            "that price could be met, as well as fine tuning, this would be easily\n",
            "worth 5 stars.\n",
            "\n",
            "True sentiment: neutral\n"
          ]
        }
      ]
    },
    {
      "cell_type": "code",
      "metadata": {
        "id": "g4rpRgf9tMNe",
        "colab": {
          "base_uri": "https://localhost:8080/",
          "height": 506
        },
        "outputId": "787a6645-2f98-46d3-979f-c11de4672ef0"
      },
      "source": [
        "sns.barplot(x='values', y='class_names', data=pred_df, orient='h')\n",
        "plt.ylabel('sentiment')\n",
        "plt.xlabel('probability')\n",
        "plt.xlim([0, 1]);"
      ],
      "execution_count": 46,
      "outputs": [
        {
          "output_type": "display_data",
          "data": {
            "image/png": "[encoded data removed]",
            "text/plain": [
              "<Figure size 864x576 with 1 Axes>"
            ]
          },
          "metadata": {
            "image/png": {
              "width": 779,
              "height": 489
            }
          }
        }
      ]
    },
    {
      "cell_type": "markdown",
      "metadata": {
        "id": "yeooEydltlrY"
      },
      "source": [
        "# **Thử mô hình với một xâu**"
      ]
    },
    {
      "cell_type": "code",
      "metadata": {
        "id": "Bnc21YgOuaW9"
      },
      "source": [
        "def test_model(text_in: str, model, device, class_names):\n",
        "  encoded_review = tokenizer.encode_plus(\n",
        "                   text_in,\n",
        "                   max_length=MAX_LEN,\n",
        "                   add_special_tokens=True,\n",
        "                   return_token_type_ids=False,\n",
        "                   pad_to_max_length=True,\n",
        "                   return_attention_mask=True,\n",
        "                   return_tensors='pt',)\n",
        "  \n",
        "  input_ids = encoded_review['input_ids'].to(device)\n",
        "  attention_mask = encoded_review['attention_mask'].to(device)\n",
        "  output = model(input_ids, attention_mask)\n",
        "\n",
        "  _, prediction = torch.max(output, dim=1)\n",
        "  print(f'Review text: {review_text}')\n",
        "  print(f'Sentiment  : {class_names[prediction]}')"
      ],
      "execution_count": 47,
      "outputs": []
    },
    {
      "cell_type": "code",
      "metadata": {
        "id": "ZhJAKUsvt9J5",
        "colab": {
          "base_uri": "https://localhost:8080/"
        },
        "outputId": "cb4bde65-cb9d-4155-9239-9e24e43cdf52"
      },
      "source": [
        "review_text = \"She doesn't love me\"\n",
        "test_model(review_text, model, device, class_names)"
      ],
      "execution_count": 48,
      "outputs": [
        {
          "output_type": "stream",
          "name": "stdout",
          "text": [
            "Review text: She doesn't love me\n",
            "Sentiment  : negative\n"
          ]
        },
        {
          "output_type": "stream",
          "name": "stderr",
          "text": [
            "/usr/local/lib/python3.7/dist-packages/transformers/tokenization_utils_base.py:2218: FutureWarning: The `pad_to_max_length` argument is deprecated and will be removed in a future version, use `padding=True` or `padding='longest'` to pad to the longest sequence in the batch, or use `padding='max_length'` to pad to a max length. In this case, you can give a specific length with `max_length` (e.g. `max_length=45`) or leave max_length to None to pad to the maximal input size of the model (e.g. 512 for Bert).\n",
            "  FutureWarning,\n"
          ]
        }
      ]
    },
    {
      "cell_type": "code",
      "metadata": {
        "id": "Ud4YkIo4vylN",
        "colab": {
          "base_uri": "https://localhost:8080/"
        },
        "outputId": "c4cfab76-c4a1-47a5-dee4-b3e96d8adec2"
      },
      "source": [
        "review_text = \"I'm depressed\"\n",
        "test_model(review_text, model, device, class_names)"
      ],
      "execution_count": 49,
      "outputs": [
        {
          "output_type": "stream",
          "name": "stdout",
          "text": [
            "Review text: I'm depressed\n",
            "Sentiment  : negative\n"
          ]
        },
        {
          "output_type": "stream",
          "name": "stderr",
          "text": [
            "/usr/local/lib/python3.7/dist-packages/transformers/tokenization_utils_base.py:2218: FutureWarning: The `pad_to_max_length` argument is deprecated and will be removed in a future version, use `padding=True` or `padding='longest'` to pad to the longest sequence in the batch, or use `padding='max_length'` to pad to a max length. In this case, you can give a specific length with `max_length` (e.g. `max_length=45`) or leave max_length to None to pad to the maximal input size of the model (e.g. 512 for Bert).\n",
            "  FutureWarning,\n"
          ]
        }
      ]
    },
    {
      "cell_type": "code",
      "metadata": {
        "id": "KDdo_OoAxg9-",
        "colab": {
          "base_uri": "https://localhost:8080/"
        },
        "outputId": "3f298d8c-8f21-4fdf-9fa0-ef46cb701c13"
      },
      "source": [
        "review_text = \"A pretty solid keyboard, Fully customizable RGB and Macros and Little OLED screen displays discord messages and cpu/gpu/ram/etc temperatures and more. Only 2 issues I have are with the wrist wrest which is more so used as a palm rest - this is common with other keyboards not an issue - the wrist rest is magnetic and detachable, does not slip or slide but you can scratch it very easily or get it dirty and once you have done so it's permanent. And it feels stiff and hard, it's not like a cushion or like Razer's, Logitech's, HyperX's, etc.. leatherette/ cushiony wrist rests. Just my personal opinion. Secondly if you buy the Cherry Red - Linear and Quite like I did I recommend buying some O-rings with it! Without them I felt whenever pressed a key I was hitting the ground or the base of the keyboard which really doesn't feel good. The O rings help it feel a bit tactile and feels so much better. Other than that an great keyboard!\"\n",
        "test_model(review_text, model, device, class_names)"
      ],
      "execution_count": 50,
      "outputs": [
        {
          "output_type": "stream",
          "name": "stdout",
          "text": [
            "Review text: A pretty solid keyboard, Fully customizable RGB and Macros and Little OLED screen displays discord messages and cpu/gpu/ram/etc temperatures and more. Only 2 issues I have are with the wrist wrest which is more so used as a palm rest - this is common with other keyboards not an issue - the wrist rest is magnetic and detachable, does not slip or slide but you can scratch it very easily or get it dirty and once you have done so it's permanent. And it feels stiff and hard, it's not like a cushion or like Razer's, Logitech's, HyperX's, etc.. leatherette/ cushiony wrist rests. Just my personal opinion. Secondly if you buy the Cherry Red - Linear and Quite like I did I recommend buying some O-rings with it! Without them I felt whenever pressed a key I was hitting the ground or the base of the keyboard which really doesn't feel good. The O rings help it feel a bit tactile and feels so much better. Other than that an great keyboard!\n",
            "Sentiment  : positive\n"
          ]
        },
        {
          "output_type": "stream",
          "name": "stderr",
          "text": [
            "/usr/local/lib/python3.7/dist-packages/transformers/tokenization_utils_base.py:2218: FutureWarning: The `pad_to_max_length` argument is deprecated and will be removed in a future version, use `padding=True` or `padding='longest'` to pad to the longest sequence in the batch, or use `padding='max_length'` to pad to a max length. In this case, you can give a specific length with `max_length` (e.g. `max_length=45`) or leave max_length to None to pad to the maximal input size of the model (e.g. 512 for Bert).\n",
            "  FutureWarning,\n"
          ]
        }
      ]
    },
    {
      "cell_type": "code",
      "metadata": {
        "colab": {
          "base_uri": "https://localhost:8080/"
        },
        "id": "zjqh68YkICXg",
        "outputId": "6dbad443-50d5-4789-8baf-714472587f36"
      },
      "source": [
        "review_text = \"I ordered 6 different types of 1 piece each, but I ate each one the same as if I was eating the same type, so in the end the best was the fried taro balls of various types of dumplings, flat cakes, very boring but making lumps Big to force customers to buy at 19k, I don't understand what I can eat here but someone compliments it\"\n",
        "test_model(review_text, model, device, class_names)"
      ],
      "execution_count": 61,
      "outputs": [
        {
          "output_type": "stream",
          "name": "stdout",
          "text": [
            "Review text: I ordered 6 different types of 1 piece each, but I ate each one the same as if I was eating the same type, so in the end the best was the fried taro balls of various types of dumplings, flat cakes, very boring but making lumps Big to force customers to buy at 19k, I don't understand what I can eat here but someone compliments it\n",
            "Sentiment  : positive\n"
          ]
        },
        {
          "output_type": "stream",
          "name": "stderr",
          "text": [
            "/usr/local/lib/python3.7/dist-packages/transformers/tokenization_utils_base.py:2218: FutureWarning: The `pad_to_max_length` argument is deprecated and will be removed in a future version, use `padding=True` or `padding='longest'` to pad to the longest sequence in the batch, or use `padding='max_length'` to pad to a max length. In this case, you can give a specific length with `max_length` (e.g. `max_length=45`) or leave max_length to None to pad to the maximal input size of the model (e.g. 512 for Bert).\n",
            "  FutureWarning,\n"
          ]
        }
      ]
    },
    {
      "cell_type": "markdown",
      "metadata": {
        "id": "3hL11hl5jXnn"
      },
      "source": [
        "Mỗi lần train quá lâu nên ta sẽ lưu model lại"
      ]
    },
    {
      "cell_type": "code",
      "metadata": {
        "id": "6DnEF0yz0Qxm"
      },
      "source": [
        "import pickle"
      ],
      "execution_count": 51,
      "outputs": []
    },
    {
      "cell_type": "code",
      "metadata": {
        "id": "N-c8iwhhjaDB"
      },
      "source": [
        "pathname = '/content/drive/MyDrive/'\n",
        "filename = 'finalized_model.sav'\n",
        "\n",
        "pickle.dump(model, open(filename, 'wb'))"
      ],
      "execution_count": 55,
      "outputs": []
    },
    {
      "cell_type": "code",
      "metadata": {
        "id": "R1IWcKX0jkhG"
      },
      "source": [
        "loaded_model = pickle.load(open(filename, 'rb'))"
      ],
      "execution_count": 56,
      "outputs": []
    },
    {
      "cell_type": "code",
      "metadata": {
        "colab": {
          "base_uri": "https://localhost:8080/"
        },
        "id": "iSkcJeEGGUw0",
        "outputId": "93d9b404-a9b3-4276-c38e-2e7f255b6aa9"
      },
      "source": [
        "review_text = \"A pretty solid keyboard, Fully customizable RGB and Macros and Little OLED screen displays discord messages and cpu/gpu/ram/etc temperatures and more. Only 2 issues I have are with the wrist wrest which is more so used as a palm rest - this is common with other keyboards not an issue - the wrist rest is magnetic and detachable, does not slip or slide but you can scratch it very easily or get it dirty and once you have done so it's permanent. And it feels stiff and hard, it's not like a cushion or like Razer's, Logitech's, HyperX's, etc.. leatherette/ cushiony wrist rests. Just my personal opinion. Secondly if you buy the Cherry Red - Linear and Quite like I did I recommend buying some O-rings with it! Without them I felt whenever pressed a key I was hitting the ground or the base of the keyboard which really doesn't feel good. The O rings help it feel a bit tactile and feels so much better. Other than that an great keyboard!\"\n",
        "test_model(review_text, loaded_model, device, class_names)"
      ],
      "execution_count": 63,
      "outputs": [
        {
          "output_type": "stream",
          "name": "stdout",
          "text": [
            "Review text: A pretty solid keyboard, Fully customizable RGB and Macros and Little OLED screen displays discord messages and cpu/gpu/ram/etc temperatures and more. Only 2 issues I have are with the wrist wrest which is more so used as a palm rest - this is common with other keyboards not an issue - the wrist rest is magnetic and detachable, does not slip or slide but you can scratch it very easily or get it dirty and once you have done so it's permanent. And it feels stiff and hard, it's not like a cushion or like Razer's, Logitech's, HyperX's, etc.. leatherette/ cushiony wrist rests. Just my personal opinion. Secondly if you buy the Cherry Red - Linear and Quite like I did I recommend buying some O-rings with it! Without them I felt whenever pressed a key I was hitting the ground or the base of the keyboard which really doesn't feel good. The O rings help it feel a bit tactile and feels so much better. Other than that an great keyboard!\n",
            "Sentiment  : positive\n"
          ]
        },
        {
          "output_type": "stream",
          "name": "stderr",
          "text": [
            "/usr/local/lib/python3.7/dist-packages/transformers/tokenization_utils_base.py:2218: FutureWarning: The `pad_to_max_length` argument is deprecated and will be removed in a future version, use `padding=True` or `padding='longest'` to pad to the longest sequence in the batch, or use `padding='max_length'` to pad to a max length. In this case, you can give a specific length with `max_length` (e.g. `max_length=45`) or leave max_length to None to pad to the maximal input size of the model (e.g. 512 for Bert).\n",
            "  FutureWarning,\n"
          ]
        }
      ]
    },
    {
      "cell_type": "code",
      "metadata": {
        "id": "yaUV9K96ISYO"
      },
      "source": [
        ""
      ],
      "execution_count": null,
      "outputs": []
    }
  ]
}